{
  "nbformat": 4,
  "nbformat_minor": 0,
  "metadata": {
    "colab": {
      "provenance": [],
      "authorship_tag": "ABX9TyNA96ov4pdUD2xXvszz+hBd",
      "include_colab_link": true
    },
    "kernelspec": {
      "name": "python3",
      "display_name": "Python 3"
    },
    "language_info": {
      "name": "python"
    }
  },
  "cells": [
    {
      "cell_type": "markdown",
      "metadata": {
        "id": "view-in-github",
        "colab_type": "text"
      },
      "source": [
        "<a href=\"https://colab.research.google.com/github/ChairunnisaAnggunSetiono/Python-Learning-Basic/blob/main/python_learning_basic.ipynb\" target=\"_parent\"><img src=\"https://colab.research.google.com/assets/colab-badge.svg\" alt=\"Open In Colab\"/></a>"
      ]
    },
    {
      "cell_type": "markdown",
      "source": [
        "# **PRINTING**"
      ],
      "metadata": {
        "id": "s1FhAOoAy7rn"
      }
    },
    {
      "cell_type": "code",
      "execution_count": null,
      "metadata": {
        "colab": {
          "base_uri": "https://localhost:8080/"
        },
        "id": "AxmHaARgpuMa",
        "outputId": "4a2ebce2-faa1-4370-f855-a353bb8f9046"
      },
      "outputs": [
        {
          "output_type": "stream",
          "name": "stdout",
          "text": [
            "Halo Dunia\n",
            "20\n",
            "20000\n"
          ]
        }
      ],
      "source": [
        "#Print Words\n",
        "print(\"Halo Dunia\")\n",
        "#Print Angka\n",
        "print(20)\n",
        "print(20000)"
      ]
    },
    {
      "cell_type": "markdown",
      "source": [
        "Variables"
      ],
      "metadata": {
        "id": "jf3562CnznIJ"
      }
    },
    {
      "cell_type": "code",
      "source": [
        "#Variables\n",
        "angka_1 = 121839128931289381293812938129381293812938912389128391289381238129312\n",
        "angka_2 = 1213812309123890128391238128390128390812908908\n",
        "\n",
        "jumlah = angka_1 + angka_2\n",
        "jumlah\n",
        "#Text\n",
        "text = \"Saya sedang belajar membuat variabel\"\n",
        "#Text Berisi\n",
        "sisi_persegi = 6"
      ],
      "metadata": {
        "id": "zyLkwfJAsEC0"
      },
      "execution_count": null,
      "outputs": []
    },
    {
      "cell_type": "markdown",
      "source": [
        "More Printing"
      ],
      "metadata": {
        "id": "Bfx_w32007Wt"
      }
    },
    {
      "cell_type": "code",
      "source": [
        "#Printing Isi Variabel\n",
        "nama_lengkap = \"Raditya Dika\"\n",
        "print(nama_lengkap)\n",
        "#Printing menggunakan %-formatting\n",
        "#Text\n",
        "nama1 = \"Rima\"\n",
        "nama2 = \"Budi\"\n",
        "print(\"Hello, %s\" % nama1)\n",
        "print(\"Hello, %s\" % nama2)\n",
        "#Angka\n",
        "angka1 = 21\n",
        "angka2 = 20\n",
        "print(\"Inilah adalah angka %d\" % angka1)\n",
        "print(\"Inilah adalah angka %d\" % angka2)\n",
        "#Gabungan\n",
        "# Coba code di sini\n",
        "nama = \"Budi\"\n",
        "umur = 22\n",
        "print(\"Halo saya %s. Saya berumur %d tahun.\" %(nama,umur))\n",
        "#Printing menggunakan f-string\n",
        "ayam = 15000\n",
        "bumbu = 10000\n",
        "beras = 50000\n",
        "total_belanja = 16000\n",
        "print(f\"Harga ayam adalah {ayam} rupiah, harga bumbu adalah {bumbu} rupiah, harga beras adalah {beras} rupiah. Maka total belanja adalah {total_belanja} rupiah\")"
      ],
      "metadata": {
        "colab": {
          "base_uri": "https://localhost:8080/"
        },
        "id": "jB4-JD0t09Gf",
        "outputId": "f4e3488d-05ae-42f0-eb52-23b15f7573bc"
      },
      "execution_count": null,
      "outputs": [
        {
          "output_type": "stream",
          "name": "stdout",
          "text": [
            "Raditya Dika\n",
            "Hello, Rima\n",
            "Hello, Budi\n",
            "Inilah adalah angka 21\n",
            "Inilah adalah angka 20\n",
            "Halo saya Budi. Saya berumur 22 tahun.\n",
            "Harga ayam adalah 15000 rupiah, harga bumbu adalah 10000 rupiah, harga beras adalah 50000 rupiah. Maka total belanja adalah 16000 rupiah\n"
          ]
        }
      ]
    },
    {
      "cell_type": "markdown",
      "source": [
        "# **Primitive Data Structure**"
      ],
      "metadata": {
        "id": "_ujQwgpj-QJ8"
      }
    },
    {
      "cell_type": "code",
      "source": [
        "#Integer:bilangan bulat (negatif dan positif)\n",
        "print(1)\n",
        "#Tipe data sebuah karakter\n",
        "print(type(6))\n",
        "#tipe data dari sebuah variabel\n",
        "int_2 = 23\n",
        "print(type(int_2))"
      ],
      "metadata": {
        "colab": {
          "base_uri": "https://localhost:8080/"
        },
        "id": "khBvLL7a3lnj",
        "outputId": "b6310b90-64fc-4278-aa7a-62275c1f0567"
      },
      "execution_count": null,
      "outputs": [
        {
          "output_type": "stream",
          "name": "stdout",
          "text": [
            "1\n",
            "<class 'int'>\n",
            "<class 'int'>\n"
          ]
        }
      ]
    },
    {
      "cell_type": "code",
      "source": [
        "#Float:angka desimal\n",
        "print(3.14)\n",
        "pi = 3.14\n",
        "print(type(pi))"
      ],
      "metadata": {
        "id": "tu7oofua3ImM"
      },
      "execution_count": null,
      "outputs": []
    },
    {
      "cell_type": "code",
      "source": [
        "#Operasi Matematika\n",
        "Pembagian = 6/3\n",
        "Floor_Devision = 3 // 21 #pembulatan desimal\n",
        "Modulo = 7%2 #sisa hasil bagi\n",
        "Pangkat = 2**2"
      ],
      "metadata": {
        "id": "w5tgZze__iaN"
      },
      "execution_count": null,
      "outputs": []
    },
    {
      "cell_type": "markdown",
      "source": [
        "Order of Operations (PEMDAS)"
      ],
      "metadata": {
        "id": "9qropHM_-Vfq"
      }
    },
    {
      "cell_type": "markdown",
      "source": [
        "Ibu Mega sedang berbelanja ke toko buah untuk acara arisan. Beliau membeli buah Jeruk sebanyak 1 kg, buah Rambutan 2 kg, Semangka 2 buah yang beratnya masing-masing 4.2 kg dan 4.5 kg. Jika harga Jeruk Rp 22000 per kg, Rambutan Rp 20000 per kg, Semangka Rp 4000 per kg. Ternyata toko memberikan diskon sebesar 20% dari harga total pembelian. Berapakah total harga belanjaan Ibu Mega?"
      ],
      "metadata": {
        "id": "O4yseWjgCGcf"
      }
    },
    {
      "cell_type": "code",
      "source": [
        "jeruk = 1 * 22000\n",
        "rambutan = 2 * 20000\n",
        "semangka = (4.2 + 4.5) * 4000\n",
        "\n",
        "# kemudian tambahkan semua total harga buahnya\n",
        "total = jeruk + rambutan + semangka\n",
        "print(total)\n",
        "\n",
        "# hitung diskon\n",
        "h_diskon = total * (20/100)\n",
        "print(h_diskon)\n",
        "\n",
        "# harga akhir\n",
        "h_total = total - h_diskon\n",
        "print(h_total)\n"
      ],
      "metadata": {
        "id": "zs9Jv2T7AYy1"
      },
      "execution_count": null,
      "outputs": []
    },
    {
      "cell_type": "code",
      "source": [
        "#String tanda kutip tunggal dan ganda dalam satu kalimat\n",
        "print('''He said, \"What's there?\"''')\n",
        "#String dalam variabel\n",
        "string_2 = 'kuda itu aku beri nama jambul'\n",
        "print(string_2)\n",
        "#Tipe string\n",
        "mobil = 'porsche'\n",
        "print(type(mobil))"
      ],
      "metadata": {
        "colab": {
          "base_uri": "https://localhost:8080/"
        },
        "id": "AVjQXz7CDclX",
        "outputId": "f7ad5a1f-99dd-47ba-b249-7064c216fbb2"
      },
      "execution_count": null,
      "outputs": [
        {
          "output_type": "stream",
          "name": "stdout",
          "text": [
            "He said, \"What's there?\"\n",
            "kuda itu aku beri nama jambul\n",
            "<class 'str'>\n"
          ]
        }
      ]
    },
    {
      "cell_type": "code",
      "source": [
        "STR_1 = 'data'\n",
        "STR_2 = 'science'\n",
        "Concatenation = print(STR_1+STR_2)\n",
        "Repetition = print(STR_1*2)\n",
        "Slicing = print(STR_2[1:4]) #NAMA_VAR[start:stop-1]\n",
        "#Mengambil indeks ke-n sampai akhir string\n",
        "jam = 'jam tangan'\n",
        "print(jam[2:])\n",
        "#Mengambil karakter dari awal string sampai indeks ke-m\n",
        "jam = 'jam tangan'\n",
        "print(jam[:...])"
      ],
      "metadata": {
        "colab": {
          "base_uri": "https://localhost:8080/"
        },
        "id": "HfyiaTRmEHe4",
        "outputId": "5ba4c909-7ce1-4d9c-c477-72f9fdfdef05"
      },
      "execution_count": null,
      "outputs": [
        {
          "output_type": "stream",
          "name": "stdout",
          "text": [
            "datascience\n",
            "datadata\n",
            "cie\n"
          ]
        }
      ]
    },
    {
      "cell_type": "markdown",
      "source": [
        "Kasus String"
      ],
      "metadata": {
        "id": "_tuYLgTLHsUm"
      }
    },
    {
      "cell_type": "markdown",
      "source": [
        "Boss anda menyuruh untuk mengambil data penjualan di bulan tertentu. Bagaimana cara anda untuk mendapatkan hanya bulannya saja di tanggal transaksi tersebut?\n",
        "\n",
        "tgl_transaksi_1 = \"02-01-2022\"\n",
        "tgl_transaksi_2 = \"26-05-2022\""
      ],
      "metadata": {
        "id": "qKUFMJ0LHpnK"
      }
    },
    {
      "cell_type": "code",
      "source": [
        "tgl_transaksi_1 = '02-01-2022'\n",
        "bulan_1 = tgl_transaksi_1[3:5]\n",
        "print(bulan_1)\n",
        "\n",
        "tgl_transaksi_2 = '26-05-2022'\n",
        "bulan_2 = tgl_transaksi_2[3:5]\n",
        "print(bulan_2)"
      ],
      "metadata": {
        "id": "_o_IfgH9HpAK"
      },
      "execution_count": null,
      "outputs": []
    },
    {
      "cell_type": "markdown",
      "source": [
        "String Method"
      ],
      "metadata": {
        "id": "EnwpJKfNJZT_"
      }
    },
    {
      "cell_type": "code",
      "source": [
        "#Len (panjang string)\n",
        "string_1 = 'python programming'\n",
        "print(len(string_1))\n",
        "#Upper (kapital)\n",
        "pulau = 'Maluku'\n",
        "print(pulau.upper())\n",
        "#Lower (huruf kecil)\n",
        "alatMusik = 'GITAR'\n",
        "print(alatMusik.lower())\n",
        "#Count (hitung karakter)\n",
        "#coba hitung huruf 'o' pada sring_2 menggunakan count()\n",
        "string_2 = 'jupyter notebook'\n",
        "print(string_2.count('o'))\n",
        "#Find (menemukan karakter)\n",
        "# carilah karakter 'l' ada di indeks ke berapa dengan method find()\n",
        "buah = 'kelapa'\n",
        "print(buah.find('l'))\n",
        "#Replace (mengganti karakter)\n",
        "unggas = 'burung bangau'\n",
        "print(unggas.replace('bangau','elang'))\n",
        "#capitalize (ubah karakter pertama menjadi kapital)\n",
        "pohon = 'cemara'\n",
        "print(pohon.capitalize())"
      ],
      "metadata": {
        "id": "zkLvIV2wJdPs"
      },
      "execution_count": null,
      "outputs": []
    },
    {
      "cell_type": "markdown",
      "source": [
        "# **BOOLEAN**"
      ],
      "metadata": {
        "id": "wBIYB_da3aB4"
      }
    },
    {
      "cell_type": "code",
      "source": [
        "#Nilai logika true or false\n",
        "#Operator Equality\n",
        "#True\n",
        "nama_tercantum = \"Johan\"\n",
        "nama_penerima = \"Johan\"\n",
        "# Kita bisa mengeluarkan output dengan dua cara (di Jupyter Notebook)\n",
        "# Cara 1\n",
        "print(nama_tercantum == nama_penerima)\n",
        "# Cara 2\n",
        "nama_tercantum == nama_penerima\n",
        "\n",
        "#False\n",
        "angka_1 = 0.232\n",
        "angka_2 = 2.32\n",
        "angka_1 != angka_2\n",
        "\n",
        "#Operator Comparison\n",
        "judul_film_pertama = 'Bersama Awan'\n",
        "judul_film_kedua = 'Bersama Angin'\n",
        "judul_film_pertama > judul_film_kedua\n"
      ],
      "metadata": {
        "colab": {
          "base_uri": "https://localhost:8080/"
        },
        "id": "WAmokNR53eCs",
        "outputId": "7d6d4745-818d-4391-b890-cf90cecbef57"
      },
      "execution_count": null,
      "outputs": [
        {
          "output_type": "stream",
          "name": "stdout",
          "text": [
            "True\n"
          ]
        },
        {
          "output_type": "execute_result",
          "data": {
            "text/plain": [
              "True"
            ]
          },
          "metadata": {},
          "execution_count": 1
        }
      ]
    },
    {
      "cell_type": "markdown",
      "source": [
        "Boolean Logic I (AND, OR, NOT)"
      ],
      "metadata": {
        "id": "WeCxmBTd5Awk"
      }
    },
    {
      "cell_type": "code",
      "source": [
        "#And (dua kondisi yang true)\n",
        "3 < 4 and 3 < 2"
      ],
      "metadata": {
        "colab": {
          "base_uri": "https://localhost:8080/"
        },
        "id": "TRwR8_0v5DC2",
        "outputId": "077de8ee-ae22-434c-fe16-7a6e696ce3e6"
      },
      "execution_count": null,
      "outputs": [
        {
          "output_type": "execute_result",
          "data": {
            "text/plain": [
              "False"
            ]
          },
          "metadata": {},
          "execution_count": 3
        }
      ]
    },
    {
      "cell_type": "code",
      "source": [
        "#Contoh\n",
        "#Pengguna menggunakan promo pertama dan promo kedua\n",
        "is_get_promo_pertama = True\n",
        "is_get_promo_kedua = True\n",
        "is_get_promo_pertama and is_get_promo_kedua"
      ],
      "metadata": {
        "colab": {
          "base_uri": "https://localhost:8080/"
        },
        "id": "MF3F2Pm65tcf",
        "outputId": "d66a1b8e-9232-4729-f76b-53c78ec66b0d"
      },
      "execution_count": null,
      "outputs": [
        {
          "output_type": "execute_result",
          "data": {
            "text/plain": [
              "True"
            ]
          },
          "metadata": {},
          "execution_count": 5
        }
      ]
    },
    {
      "cell_type": "code",
      "source": [
        "#Pengguna menggunakan promo pertama saja\n",
        "is_get_promo_pertama = True\n",
        "is_get_promo_kedua = False\n",
        "is_get_promo_pertama and is_get_promo_kedua"
      ],
      "metadata": {
        "colab": {
          "base_uri": "https://localhost:8080/"
        },
        "id": "VfOkIkzA56au",
        "outputId": "8e422178-99df-4da2-fccb-f8d15008b32e"
      },
      "execution_count": null,
      "outputs": [
        {
          "output_type": "execute_result",
          "data": {
            "text/plain": [
              "False"
            ]
          },
          "metadata": {},
          "execution_count": 6
        }
      ]
    },
    {
      "cell_type": "code",
      "source": [
        "#Pengguna menggunakan promo kedua saja\n",
        "is_get_promo_pertama = False\n",
        "is_get_promo_kedua = True\n",
        "is_get_promo_pertama and is_get_promo_kedua"
      ],
      "metadata": {
        "colab": {
          "base_uri": "https://localhost:8080/"
        },
        "id": "oUUKJVrZ57-3",
        "outputId": "f094bd3c-ed83-457a-c461-ee7e0c0e26b7"
      },
      "execution_count": null,
      "outputs": [
        {
          "output_type": "execute_result",
          "data": {
            "text/plain": [
              "False"
            ]
          },
          "metadata": {},
          "execution_count": 7
        }
      ]
    },
    {
      "cell_type": "code",
      "source": [
        "#Pengguna yang tidak menggunakan promo\n",
        "is_get_promo_pertama = False\n",
        "is_get_promo_kedua = False\n",
        "is_get_promo_pertama and is_get_promo_kedua"
      ],
      "metadata": {
        "colab": {
          "base_uri": "https://localhost:8080/"
        },
        "id": "J2pFiKxo59sd",
        "outputId": "6a8e4b98-e5d4-4957-8f1b-03a931f12b71"
      },
      "execution_count": null,
      "outputs": [
        {
          "output_type": "execute_result",
          "data": {
            "text/plain": [
              "False"
            ]
          },
          "metadata": {},
          "execution_count": 8
        }
      ]
    },
    {
      "cell_type": "markdown",
      "source": [
        "Perusahaan memberikan bonus insentif lebih untuk karyawan yang masuk tepat waktu dan juga setidaknya 1 kali lembur dalam sebulan. Pak Wira pernah melakukan lembur namun ia pernah terlambat maka, Buatlah boolean logic sesuai dengan kondisi Pak Wira."
      ],
      "metadata": {
        "id": "xq9FH2LR7Lkd"
      }
    },
    {
      "cell_type": "code",
      "source": [
        "is_intime = False\n",
        "is_overtime = True\n",
        "\n",
        "is_intime and is_overtime"
      ],
      "metadata": {
        "id": "dUCBQ0hD7NRJ"
      },
      "execution_count": null,
      "outputs": []
    },
    {
      "cell_type": "code",
      "source": [
        "#Or (false cuma ketika false & false)"
      ],
      "metadata": {
        "id": "OgDNmCHO7yNT"
      },
      "execution_count": null,
      "outputs": []
    },
    {
      "cell_type": "markdown",
      "source": [
        "NOT"
      ],
      "metadata": {
        "id": "GHt4t1JS8x6i"
      }
    },
    {
      "cell_type": "code",
      "source": [
        "#Negasi dari nilai sebelumnya, True => False, False => True\n",
        "kondisi_ibu_tidak_membeli_lemon = True\n",
        "not kondisi_ibu_tidak_membeli_lemon\n",
        "#operasi boolean untuk kondisi berikut: angka_3 kurang dari 15 dan angka_3 lebih dari 5 atau angka_3 bukan lebih dari 7\n",
        "angka_3 <15 and angka_3 > 5 or not angka_3 >7\n"
      ],
      "metadata": {
        "id": "Chu130T181Sr"
      },
      "execution_count": null,
      "outputs": []
    },
    {
      "cell_type": "markdown",
      "source": [
        "# **BRANCHING (IF, ELIF, ELSE)**"
      ],
      "metadata": {
        "id": "9quN9mTSBZdj"
      }
    },
    {
      "cell_type": "code",
      "source": [
        "#If\n",
        "#if kondisi jika cuaca cerah\n",
        "if cuaca_hari_ini ==  \"cerah\":\n",
        "  #statement jika memenuhi if kondisi jika cuaca cerah\n",
        "  print(\"aku pergi kepantai\")"
      ],
      "metadata": {
        "id": "Y1vcZ1SlBcwI"
      },
      "execution_count": null,
      "outputs": []
    },
    {
      "cell_type": "markdown",
      "source": [
        "Supermarket A memberikan harga diskon 15% kepada pelanggan yang bertransaksi belanja lebih dari Rp100.000. Wawan tertarik dengan promosi tersebut maka Wawan membeli kebutuhan Wawan dan ternyata didapatkan hasil:"
      ],
      "metadata": {
        "id": "1d7TSDGzCILm"
      }
    },
    {
      "cell_type": "code",
      "source": [
        "#Tipe data integer\n",
        "diskon = 0.15\n",
        "total_belanja_wawan = 110_000\n",
        "min_belanja = 100_000\n",
        "\n",
        "if total_belanja_wawan >= min_belanja:\n",
        "  print(\"mendapatkan diskon 15%\")\n",
        "\n",
        "  total_akhir = total_belanja_wawan - (total_belanja_wawan*diskon)\n",
        "  print(f\"total_belanja_wawan setelah diskon sebesar {total_akhir} rupiah\")\n",
        "\n",
        "#Tipe data boolean\n",
        "is_promo = True\n",
        "if is_promo == True:\n",
        "  print(\"Selamat anda mendapatkan diskon\")"
      ],
      "metadata": {
        "colab": {
          "base_uri": "https://localhost:8080/"
        },
        "id": "hqKHn5TQCKgn",
        "outputId": "8f42ed2b-c39e-429f-ac78-0c73d917dc23"
      },
      "execution_count": null,
      "outputs": [
        {
          "output_type": "stream",
          "name": "stdout",
          "text": [
            "mendapatkan diskon 15%\n",
            "total_belanja_wawan setelah diskon sebesar 93500.0 rupiah\n",
            "Selamat anda mendapatkan diskon\n"
          ]
        }
      ]
    },
    {
      "cell_type": "code",
      "source": [
        "#If/else\n",
        "harga_laptop = 20_000_000\n",
        "uang_wawan = 15_000_000\n",
        "if uang_wawan >= harga_laptop:\n",
        "    print(\"dapat membeli laptop\")\n",
        "else:\n",
        "    print(\"tidak dapat membeli laptop\")"
      ],
      "metadata": {
        "id": "-2hE51HKDtyE"
      },
      "execution_count": null,
      "outputs": []
    },
    {
      "cell_type": "code",
      "source": [
        "#Else if/ Elif\n",
        "cuaca_hari_ini = \"topan\"\n",
        "#if kondisi jika cuaca cerah\n",
        "if cuaca_hari_ini == \"cerah\":\n",
        "\n",
        "    #statement pertama\n",
        "    print(\"Aku pergi ke Pantai\")\n",
        "\n",
        "#if kondisi kedua jika cuaca hujan\n",
        "elif cuaca_hari_ini == \"hujan\":\n",
        "\n",
        "    #statement kedua\n",
        "    print(\"Aku pergi ke Bioskop\")\n",
        "\n",
        "#else jika tidak memenuhi kedua kondisi sebelumnya\n",
        "else:\n",
        "\n",
        "    #statement ketiga\n",
        "    print(\"Aku istirahat di Rumah\")"
      ],
      "metadata": {
        "id": "SNhJ6TYGESFw"
      },
      "execution_count": null,
      "outputs": []
    },
    {
      "cell_type": "markdown",
      "source": [
        "Branching + Boolean Logic"
      ],
      "metadata": {
        "id": "qWXohfQ3FkdG"
      }
    },
    {
      "cell_type": "code",
      "source": [
        "username = \"RayhanNaufal\"\n",
        "\n",
        "if username == \"RayhanNaufal\" or username == \"AriefRahman\":\n",
        "    print(f\"Selamat datang Administrator {username}\")\n",
        "else:\n",
        "    print(f\"Selamat datang User {username}\")"
      ],
      "metadata": {
        "colab": {
          "base_uri": "https://localhost:8080/"
        },
        "id": "sWi1WLYBFnqa",
        "outputId": "d53df38c-9ec6-4cda-9b81-2603e50684f8"
      },
      "execution_count": null,
      "outputs": [
        {
          "output_type": "stream",
          "name": "stdout",
          "text": [
            "Selamat datang User Sandi\n"
          ]
        }
      ]
    },
    {
      "cell_type": "markdown",
      "source": [
        "Sebuah Toko Florist memberikan diskon 20% kepada pelanggan yang telah melakukan 3 transaksi sebelumnya\n",
        "Akan memberi diskon 30% untuk pelanggan yang telah melakukan 7 kali transaksi sebelumnya\n",
        "Gamal ingin membeli bouquet bunga dan sekarang merupakan transaksi yang ke 7 di Toko Florist tersebut\n",
        "Buat program Branching di bawah ini berdasarkan case diatas!"
      ],
      "metadata": {
        "id": "k4U4LP8uLipT"
      }
    },
    {
      "cell_type": "code",
      "source": [
        "transaksi_ke = 7\n",
        "harga_bouquet = 150000\n",
        "diskon_20_persen = harga_bouquet - harga_bouquet * 0.2\n",
        "diskon_30_persen= harga_bouquet - harga_bouquet * 0.3\n",
        "\n",
        "\n",
        "if transaksi_ke == 3:\n",
        "  print(f\"Harga Bouquet Diskon 20% sebesar {diskon_30_persen}\")\n",
        "elif transaksi_ke == 7:\n",
        "  print(f\"Harga Bouquet Diskon 30% sebesar {diskon_30_persen}\")\n",
        "else:\n",
        "  print(f\"Harga Bouquet {harga_bouquet}\")"
      ],
      "metadata": {
        "id": "4cZWWDNiLfzO"
      },
      "execution_count": null,
      "outputs": []
    },
    {
      "cell_type": "markdown",
      "source": [
        "Nested Branching"
      ],
      "metadata": {
        "id": "VMid2rqlL55K"
      }
    },
    {
      "cell_type": "markdown",
      "source": [
        "Yana saat ini bekerja sebagai sales sebuah brand sepeda motor. Tiap bulan, Yana perlu untuk menjual 10 sepeda motor. Namun, dari kantor dia bisa mendapatkan insentif jika mampu menjual 20 sepeda motor.\n",
        "\n",
        "Bulan ini, Yana mampu menjual 30 sepeda motor:\n",
        "\n",
        "Cek status sales Yana apakah sudah memenuhi target atau belum. Dan jika iya, apakah Yana bisa mendapatkan insentif bulan ini."
      ],
      "metadata": {
        "id": "7PDXR8K3Myf9"
      }
    },
    {
      "cell_type": "code",
      "source": [
        "sales_yana = 30\n",
        "target_penjualan = 10\n",
        "target_insentif = 20\n",
        "\n",
        "# merupakan if <condition> membuat kondisi apakah\n",
        "# penjualan wana lebih besar sama dengan target penjualan\n",
        "if sales_yana >= target_penjualan:\n",
        "\n",
        "    # merupakan nested branching if membuat kondisi apakah penjualan\n",
        "    # yana selain mendapatkan target apakah yana mendapatkan insentif\n",
        "    if sales_yana >= target_insentif:\n",
        "\n",
        "        # statement jika bernilai true\n",
        "        print('Yana memenuhi target dan mendapatkan insentif')\n",
        "\n",
        "    else:\n",
        "        # statement jika bernilai False atau tidak\n",
        "        # memenuhi pada kondisi sales_yana >= target_insentif\n",
        "        print('Yana memenuhi target')\n",
        "\n",
        "else:\n",
        "    # statement jika bernilai False atau tidak\n",
        "    # memenuhi pada kondisi sales_yana >= target_penjualan\n",
        "    print('Yana belum memenuhi target')"
      ],
      "metadata": {
        "colab": {
          "base_uri": "https://localhost:8080/"
        },
        "id": "O1Mcam9SMG49",
        "outputId": "cd4a1811-8ae0-4f87-9d5b-5a32c076aae5"
      },
      "execution_count": null,
      "outputs": [
        {
          "output_type": "stream",
          "name": "stdout",
          "text": [
            "Yana memenuhi target dan mendapatkan insentif\n"
          ]
        }
      ]
    },
    {
      "cell_type": "markdown",
      "source": [
        "Statement Pass"
      ],
      "metadata": {
        "id": "xR0X_CghPNkO"
      }
    },
    {
      "cell_type": "markdown",
      "source": [
        "Mungkin sampai saat ini timbul pertanyaan. \"Bagaimana kalau suatu kondisi terpenuhi, saya tidak ingin melakukan apa-apa?\"\n",
        "Jika bertemu dengan kasus seperti ini, maka yang bisa dilakukan adalah dengan menggunakan statement pass.\n",
        "Jika Python bertemu statement pass, maka Python tidak akan melakukan apapun dan akan lanjut ke line berikutnya.\n",
        "Bono ingin membuat alarm sederhana jika genangan air di sekitar lingkungan rumahnya di atas 5 cm. Dia hanya ingin alarm berbunyi jika kondisi tersebut terjadi.\n",
        "\n",
        "Hari ini, walau situasi mulai menuju ke musim hujan genangan air di sekitar rumah Bono sebesar:"
      ],
      "metadata": {
        "id": "sXD800H-PU-b"
      }
    },
    {
      "cell_type": "code",
      "source": [
        "tinggi_genangan_centimeter = 4"
      ],
      "metadata": {
        "id": "mMJn2ICdPQVg"
      },
      "execution_count": null,
      "outputs": []
    },
    {
      "cell_type": "code",
      "source": [
        "# if jika tinggi genangan kurang dari atau sama dengan 5 cm\n",
        "if tinggi_genangan_centimeter <= 5:\n",
        "\n",
        "    #pass statement bahwa jika if kondisi memenuhi maka tidak melakukan apapun\n",
        "    pass\n",
        "\n",
        "else:\n",
        "\n",
        "    #statement jika kondisi melebihi nilai ambang maka alarm berbunyi\n",
        "    print(\"Alarm Berbunyi!\")"
      ],
      "metadata": {
        "id": "HFf3EB0oPajG"
      },
      "execution_count": null,
      "outputs": []
    },
    {
      "cell_type": "markdown",
      "source": [
        "# **Composite Data Structure**"
      ],
      "metadata": {
        "id": "Wl9sbYoPgJCE"
      }
    },
    {
      "cell_type": "code",
      "source": [
        "#List\n",
        "# Mengambil angka 10_000_000 sampai angka 9_000_000 pada list profit -\n",
        "# dengan kombinasi indeks negatif dan positif\n",
        "profit = [5_000_000, 7_500_000, 3_500_000, 10_000_000,\n",
        "          15_000_000,9_000_000, 11_000_000, 13_000_000]\n",
        "print(profit[3:-2])\n",
        "#Change list data\n",
        "# coba ubah bunga Anggrek menjadi kamboja\n",
        "list_bunga = ['Matahari', 'Anggrek', 'Lavender']\n",
        "list_bunga[1] = 'Kamboja'\n",
        "print(list_bunga)\n",
        "#angka\n",
        "list_angka = [4, 5, 6, 7]\n",
        "#lakukan operasi tambah pada element indeks ke-1\n",
        "list_angka[1] = list_angka[1] + 4\n",
        "print(list_angka)"
      ],
      "metadata": {
        "id": "15VU1edagB07"
      },
      "execution_count": null,
      "outputs": []
    },
    {
      "cell_type": "code",
      "source": [
        "#List Method\n",
        "list_1 = [3, 3, 4, 5]\n",
        "list_2 = ['string_1', 'string_3']\n",
        "len(list_1)\n",
        "list_1.append(6) #memasukkan element baru ke dalam list\n",
        "list_2.insert(1,'string_2') #memasukkan element baru sesuai indeks ke dalam list\n",
        "3 in list_1 #melihat apakah item ada di dalam list atau tidak\n",
        "list_2.index('string_3') #mencari indeks element di dalam list\n",
        "list_1.count(3) #menghitung suatu element di dalam list\n",
        "list_1.remove(4) #mengeluarkan/menghapus elemen dari dalam list\n",
        "list_1.pop(3) #mengeluarkan/menghapus elemen dari suatu index"
      ],
      "metadata": {
        "id": "wOd0c37vhDc9"
      },
      "execution_count": null,
      "outputs": []
    },
    {
      "cell_type": "markdown",
      "source": [
        "Dictionary"
      ],
      "metadata": {
        "id": "akRCLPf_mF_Q"
      }
    },
    {
      "cell_type": "code",
      "source": [
        "#Mix dictionary\n",
        "mix_dict = {1: 2,\n",
        "            \"kota\": \"jakarta\",\n",
        "            2.0: \"surabaya\",\n",
        "            \"genap\": [2, 4, 6]}\n",
        "print(mix_dict)\n",
        "#Empty dictionary\n",
        "empty_dict_2 = dict()\n",
        "print(empty_dict_2)\n",
        "#Mengeluarkan elemen dictionary\n",
        "nilai_dict = {'Bambang':80, 'Agus':95, 'Laras':90}\n",
        "print(f'Nilai Bambang : {nilai_dict[\"Bambang\"]}')\n",
        "print(f'Nilai Agus : {nilai_dict[\"Agus\"]}')\n",
        "print(f'Nilai Laras : {nilai_dict[\"Laras\"]}')\n",
        "#Mengganti value pada dictionary\n",
        "warna_buah = {'Pisang':'Kuning', 'Apel':'Merah', 'Kiwi':'Hijau'}\n",
        "warna_buah['Apel'] = 'Hijau'\n",
        "print(warna_buah)"
      ],
      "metadata": {
        "id": "1y6ldBV0mLai"
      },
      "execution_count": null,
      "outputs": []
    },
    {
      "cell_type": "code",
      "source": [
        "#Dictionary Method\n",
        "dict_1 = {'Nama': 'Dani', 'Usia':24}\n",
        "dict_2 = {'Nama': 'Lala', 'Usia':19}\n",
        "len(dict_1)\n",
        "dict_1.get('Nama') #mendapatkan element dari key\n",
        "dict_1.key() #mendapatkan semua key\n",
        "dict_1.values() #mendapatkan semua value\n",
        "dict_1.pop('Usia') #mengeluarkan atau menghapus key dan value\n",
        "dict_1.update(dict_2) #menambah atau menggabungkan data\n",
        "dict_1.copy() #membuat duplikasi\n",
        "dict_1.clear #menghapus semua key dan value"
      ],
      "metadata": {
        "id": "b3x7YTgcvyC8"
      },
      "execution_count": null,
      "outputs": []
    },
    {
      "cell_type": "markdown",
      "source": [
        "Tuple"
      ],
      "metadata": {
        "id": "kMMzJCvZwhM_"
      }
    },
    {
      "cell_type": "code",
      "source": [
        "#Tuple nilainya immutable (tidak bisa diubah)\n",
        "buah = (\"Apel\", \"Jeruk\", \"Mangga\")\n",
        "print(buah)\n",
        "#Indeks pada tuple\n",
        "angka = (24, 33, 23, 90, 45)\n",
        "print(angka)\n",
        "print(f'element pada indeks ke-4 pada tuple angka adalah : {angka[4]}')\n",
        "print(f'element pada indeks ke-2 pada tuple angka adalah : {angka[2]}')\n",
        "#Mengambil indeks\n",
        "bunga = ('Sepatu', 'Matahari', 'Mawar', 'Lavender', 'Asoka')\n",
        "print(f'element indeks ke-2 sampai terakhir pada tuple bunga adalah : {bunga[2:]}')\n",
        "#Mengambil element pada awal tuple sampai indeks ke m-1\n",
        "bunga = ('Sepatu', 'Matahari', 'Mawar', 'Lavender', 'Asoka')\n",
        "print(f'Element indeks pertama sampai indeks ke-3 pada tuple bunga adalah : {bunga[:4]}')\n",
        "#Slicin\n",
        "bunga = ('Sepatu', 'Matahari', 'Mawar', 'Lavender', 'Asoka')\n",
        "print(f'Element pada indeks ke-0 sampai ke-2 pada tuple bunga adalah : {bunga[0:3]}')\n",
        "print(f'{bunga[1:-1]}')\n",
        "\n",
        "#Tuple Methods\n",
        "tuple_1 = (3, 3, 4, 5)\n",
        "tuple_2 = ('string_1', 'string_3')\n",
        "tuple_1 + tuple_2 #menggabungkan 2 tuple\n"
      ],
      "metadata": {
        "colab": {
          "base_uri": "https://localhost:8080/"
        },
        "id": "9Qm5_IewwjtA",
        "outputId": "b82c1374-e31d-4db2-81b0-8dc2e0521cad"
      },
      "execution_count": null,
      "outputs": [
        {
          "output_type": "stream",
          "name": "stdout",
          "text": [
            "('Apel', 'Jeruk', 'Mangga')\n",
            "element pada indeks ke-4 pada tuple angka adalah : 45\n",
            "element pada indeks ke-2 pada tuple angka adalah : 23\n"
          ]
        }
      ]
    },
    {
      "cell_type": "markdown",
      "source": [
        "Set"
      ],
      "metadata": {
        "id": "1T0-Ehp61L7O"
      }
    },
    {
      "cell_type": "code",
      "source": [
        "#menyimpan sebuah data tidak berurutan\n",
        "num_set = {1, 2, 3, 3, 1, 4}\n",
        "buah_set = {'Semangka', 'Alpukat', 'Apel', 'Semangka', 'Apel'}\n",
        "print(num_set)\n",
        "print(buah_set)\n",
        "#tidak perlu keys seperti pada dictionary\n",
        "#Sebuah set tidak memiliki urutan\n",
        "my_set = {1, \"a\", 2, \"b\", \"apel\"}\n",
        "print(my_set)"
      ],
      "metadata": {
        "id": "4AksgNnC1NfW"
      },
      "execution_count": null,
      "outputs": []
    },
    {
      "cell_type": "code",
      "source": [
        "#Set Methods\n",
        "set_1 = {3, 4, 5, 6}\n",
        "set_2 = {1, 2, 3, 6}\n",
        "set_1.add(7) #menambah element\n",
        "set_1.update(set_2) #menambah set, list atau tuple ke dalam set\n",
        "set_1.discard(3) #menghapus element dari dalam set\n",
        "set_1.union(set_2) #Gabungan (Union)\n",
        "set_1.intersection(set_2)\t#Irisan (Intersection)"
      ],
      "metadata": {
        "id": "buQ7GAEQ2GOi"
      },
      "execution_count": null,
      "outputs": []
    },
    {
      "cell_type": "markdown",
      "source": [
        "# **LOOPING**"
      ],
      "metadata": {
        "id": "8LuEf292jzKm"
      }
    },
    {
      "cell_type": "code",
      "source": [
        "#For Loop\n",
        "for angka in 0,1,2,3,4:\n",
        "    print('Hello World')\n",
        "for angka in 0,1,2,3,4:\n",
        "    print(f'Hello World ke-{angka}')\n",
        "#Pengulangan banyak\n",
        "for angka in range(5):\n",
        "    print(angka)\n",
        "#Pengulangan bersyarat\n",
        "for angka in range(5,11):\n",
        "    print(angka)\n",
        "#Print angka genap dari 1 sampai 10 (range(begin,end,step))\n",
        "for angka in range(0, 10, 2):\n",
        "    print(angka)\n",
        "#Urutan angka dari besar ke kecil\n",
        "for angka in range(10, 0, -1):\n",
        "    print(angka)"
      ],
      "metadata": {
        "id": "w5mh0JD6j1vc"
      },
      "execution_count": null,
      "outputs": []
    },
    {
      "cell_type": "code",
      "source": [
        "#Nested Loop\n",
        "for bulan in range (1,13):\n",
        "    print(f'Bulan {bulan}')\n",
        "    for tanggal in range(1,31):\n",
        "        print(f'Tanggal {tanggal}')\n",
        "#tabel perkalian dari 3 dan 4 dari angka 1 sampai 5\n",
        "for angka_1 in range (3, 5):\n",
        "    for angka_2 in range (1, 6):\n",
        "        perkalian = angka_1 * angka_2\n",
        "        print(f'{angka_1} * {angka_2} = {perkalian}')\n",
        "    print('---')"
      ],
      "metadata": {
        "id": "uYjaUVUtqeWD"
      },
      "execution_count": null,
      "outputs": []
    },
    {
      "cell_type": "code",
      "source": [
        "#Loop in Composite Data Structure\n",
        "list_kota = ['Surabaya', 'Malang', 'Bandung']\n",
        "for kota in list_kota:\n",
        "    print(kota)\n",
        "#Dictionary\n",
        "dict_kota = {'Kota_1':'Surabaya', 'Kota_2':'Malang', 'Kota_3':'Bandung'}\n",
        "for kota in dict_kota:\n",
        "    print(f'key: {kota} | Value: {dict_kota[kota]}')\n",
        "#atau\n",
        "dict_kota = {'Kota_1':'Surabaya', 'Kota_2':'Malang', 'Kota_3':'Bandung'}\n",
        "print(dict_kota.items())\n",
        "#Unpacking method\n",
        "dict_kota = {'Kota_1':'Surabaya', 'Kota_2':'Malang', 'Kota_3':'Bandung'}\n",
        "for key,value in dict_kota.items():\n",
        "# variabel key,value akan menyimpan nilai key dan value dari method items()\n",
        "  print(f'key: {key} | Value: {value}')"
      ],
      "metadata": {
        "id": "zbPdGXf3r2ut"
      },
      "execution_count": null,
      "outputs": []
    },
    {
      "cell_type": "code",
      "source": [
        "#For Looping Enumerate (enumerate(iterable, start=0)\n",
        "list_kota = ['Surabaya', 'Malang', 'Bandung']\n",
        "for kota in enumerate(list_kota):\n",
        "    print(kota)\n",
        "#Menambahkan start untuk custom\n",
        "for kota in enumerate(list_kota, start=10):\n",
        "    print(kota)\n",
        "#Menggunakan Unpack\n",
        "for num, kota in enumerate(list_kota, start=10):\n",
        "    print(f'nomor {num} adalah kota {kota}')"
      ],
      "metadata": {
        "id": "90eK1-g6tNBo"
      },
      "execution_count": null,
      "outputs": []
    },
    {
      "cell_type": "markdown",
      "source": [
        "While Loop"
      ],
      "metadata": {
        "id": "_oW652Hrr2SS"
      }
    },
    {
      "cell_type": "code",
      "source": [
        "counter = 0\n",
        "max = 5\n",
        "\n",
        "while counter <= max: #jika counter masih kurang dari max, code akan tetap berjalan\n",
        "    print(f'Sekarang angka {counter}')\n",
        "    counter += 1 #counter akan ditambahkan 1 agar perulangan bisa berhenti"
      ],
      "metadata": {
        "colab": {
          "base_uri": "https://localhost:8080/"
        },
        "id": "5bkUfYFpv_GX",
        "outputId": "c073a07b-b191-4f3d-c05b-d8eedf06afb4"
      },
      "execution_count": null,
      "outputs": [
        {
          "output_type": "stream",
          "name": "stdout",
          "text": [
            "Sekarang angka 0\n",
            "Sekarang angka 1\n",
            "Sekarang angka 2\n",
            "Sekarang angka 3\n",
            "Sekarang angka 4\n",
            "Sekarang angka 5\n"
          ]
        }
      ]
    },
    {
      "cell_type": "code",
      "source": [
        "angka = 5\n",
        "while angka >= 0: # \"angka\" disini memenuhi kondisi while, maka looping akan berjalan\n",
        "    print(angka)\n",
        "    angka -= 1 # variabel angka akan dikurangi dengan 1 sampai kondisi di atas tidak terpenuhi"
      ],
      "metadata": {
        "colab": {
          "base_uri": "https://localhost:8080/"
        },
        "id": "a6NBlhwlxDS5",
        "outputId": "c4f57208-76ea-4920-d470-db9ee2c84a50"
      },
      "execution_count": null,
      "outputs": [
        {
          "output_type": "stream",
          "name": "stdout",
          "text": [
            "5\n",
            "4\n",
            "3\n",
            "2\n",
            "1\n",
            "0\n"
          ]
        }
      ]
    },
    {
      "cell_type": "code",
      "source": [
        "angka = 1\n",
        "while angka <= 10:\n",
        "    perkalian = angka*2\n",
        "    print(f'{angka} x 2 = {perkalian}')\n",
        "    angka += 1"
      ],
      "metadata": {
        "id": "TIgPD_JuxWlE"
      },
      "execution_count": null,
      "outputs": []
    },
    {
      "cell_type": "code",
      "source": [
        "#While-else\n",
        "numb = 1\n",
        "\n",
        "while numb <= 3: # jika nilai numb masih kurang sama dengan tiga maka proses akan terus berlangsung\n",
        "    print(f'Nilai numb sekarang {numb}')\n",
        "    numb += 1\n",
        "else: # else akan di eksekusi karena nilai numb sudah lebih dari 3\n",
        "    print(f\"Nilai numb sekarang {numb} sudah lebih dari 3.\")"
      ],
      "metadata": {
        "id": "0BEw9npo06y4"
      },
      "execution_count": null,
      "outputs": []
    },
    {
      "cell_type": "markdown",
      "source": [
        "Combining Looping with Branching"
      ],
      "metadata": {
        "id": "mMVslfdb1pu7"
      }
    },
    {
      "cell_type": "code",
      "source": [
        "# Bilangan kelipatan 4 dari 1 sampai 50\n",
        "\n",
        "for angka in range(1,50):\n",
        "    if angka % 4 == 0:\n",
        "        print(angka, end=' ')"
      ],
      "metadata": {
        "id": "k60y2kXq1ogs"
      },
      "execution_count": null,
      "outputs": []
    },
    {
      "cell_type": "markdown",
      "source": [
        "\n",
        "Diskon akan diberikan ketika harga total belanja kita lebih dari Rp. 150.000"
      ],
      "metadata": {
        "id": "FGXvxjeT2M0N"
      }
    },
    {
      "cell_type": "code",
      "source": [
        "total_harga = 0\n",
        "prosentase_diskon = (2/100)\n",
        "list_harga = [20_000, 41_000, 90_000]\n",
        "\n",
        "for harga in list_harga:\n",
        "    total_harga += harga\n",
        "\n",
        "  # if di deklarasikan di dalam for dengan indentasi yang lebih tinggi\n",
        "  # jika total harga belanja kita lebih dari 150.000 maka blok if akan dijalakan\n",
        "    if total_harga >= 150_000:\n",
        "        print(f'Total belanjaan anda Rp {total_harga}')\n",
        "\n",
        "        diskon = prosentase_diskon * total_harga\n",
        "        print(f'Anda mendapat diskon 2% dan berhemat Rp {diskon}')\n",
        "\n",
        "        total_harga = total_harga - diskon\n",
        "\n",
        "print(f'Anda harus membayar Rp {total_harga}')"
      ],
      "metadata": {
        "id": "tfPt5I752XD7"
      },
      "execution_count": null,
      "outputs": []
    },
    {
      "cell_type": "markdown",
      "source": [
        "Loop Control Flow"
      ],
      "metadata": {
        "id": "HIuY7mg33IW-"
      }
    },
    {
      "cell_type": "code",
      "source": [
        "#Break\n",
        "list_kota = ['Surabaya', 'Malang', 'Bandung']\n",
        "for kota in list_kota:\n",
        "    if kota == \"Malang\":\n",
        "        break\n",
        "    print(f'Hallo {kota}')"
      ],
      "metadata": {
        "id": "KWmZkv-d3J8i"
      },
      "execution_count": null,
      "outputs": []
    },
    {
      "cell_type": "code",
      "source": [
        "kalimat = 'Doni suka makan ayam bakar dan sate'\n",
        "\n",
        "#hentikan perulangan di bawah ketika menemukan kata 'ayam' pada variabel kalimat\n",
        "\n",
        "for kata in kalimat.split():\n",
        "  if kata == 'ayam':\n",
        "    break\n",
        "  print(kata, end=' ')\n"
      ],
      "metadata": {
        "colab": {
          "base_uri": "https://localhost:8080/"
        },
        "id": "bxKpbvk23-e_",
        "outputId": "67902395-5b81-49d5-a84a-0d4a6096a223"
      },
      "execution_count": null,
      "outputs": [
        {
          "output_type": "stream",
          "name": "stdout",
          "text": [
            "Doni suka makan "
          ]
        }
      ]
    },
    {
      "cell_type": "code",
      "source": [
        "#Continue\n",
        "list_kota = ['Surabaya', 'Malang', 'Bandung']\n",
        "\n",
        "for kota in list_kota:\n",
        "    if kota == \"Malang\":\n",
        "        continue\n",
        "    print(f'Hallo {kota}')"
      ],
      "metadata": {
        "id": "E7M5UsWa4BhE"
      },
      "execution_count": null,
      "outputs": []
    },
    {
      "cell_type": "code",
      "source": [
        "#Perulangan untuk menampilkan angka 1 - 10\n",
        "#namun kelipatan tiga tidak dimasukkan\n",
        "\n",
        "for angka in range(1, 10):\n",
        "    if angka % 3 == 0:\n",
        "        continue\n",
        "    print(angka, end=' ')\n",
        "    angka += 1"
      ],
      "metadata": {
        "id": "7VB_9W-64d7m"
      },
      "execution_count": null,
      "outputs": []
    },
    {
      "cell_type": "code",
      "source": [
        "#Pass\n",
        "list_kota = ['Surabaya', 'Malang', 'Bandung']\n",
        "\n",
        "for kota in list_kota:\n",
        "    if kota == \"Malang\":\n",
        "        pass\n",
        "        print('Pass dieksekusi')\n",
        "    print(kota)"
      ],
      "metadata": {
        "id": "8Iu0sYCY4iEa"
      },
      "execution_count": null,
      "outputs": []
    },
    {
      "cell_type": "markdown",
      "source": [
        "List Comprehension"
      ],
      "metadata": {
        "id": "kTE_Ta0a4uCX"
      }
    },
    {
      "cell_type": "code",
      "source": [
        "#coba jalankan code dibawah\n",
        "list_gaji = [2_000_000, 3_500_000, 4_500_000, 2_500_000]\n",
        "\n",
        "list_gaji_baru_2 = [gaji for gaji in list_gaji]\n",
        "\n",
        "print(list_gaji_baru_2)"
      ],
      "metadata": {
        "id": "qxtxCWsl4v1y"
      },
      "execution_count": null,
      "outputs": []
    },
    {
      "cell_type": "code",
      "source": [
        "list_gaji = [2_000_000, 3_500_000, 4_500_000, 2_500_000]\n",
        "\n",
        "#membagi list_gaji dengan angka lima\n",
        "list_gaji_baru = [gaji/5 for gaji in list_gaji]\n",
        "print(list_gaji_baru)"
      ],
      "metadata": {
        "id": "kqTFFUJI6hpj"
      },
      "execution_count": null,
      "outputs": []
    },
    {
      "cell_type": "code",
      "source": [
        "#ambil angka yang lebih besar dari 5 dari numb_list\n",
        "#dan masukkan ke variabel baru bernama new_numb_list\n",
        "numb_list = [1,2,3,4,5,6,7,8,9,10]\n",
        "\n",
        "new_numb_list = [numb for numb in numb_list if numb > 5]\n",
        "\n",
        "# kemudian print variabel new_numb_list\n",
        "print(new_numb_list)"
      ],
      "metadata": {
        "id": "xoVPU62f6HUw"
      },
      "execution_count": null,
      "outputs": []
    },
    {
      "cell_type": "code",
      "source": [
        "list_angka = [angka for angka in range(0,10)]\n",
        "print(list_angka)"
      ],
      "metadata": {
        "id": "t2yy71AL6NYG"
      },
      "execution_count": null,
      "outputs": []
    },
    {
      "cell_type": "code",
      "source": [
        "#pemanfaatan fungsi range()\n",
        "list_angka = [angka for angka in range(1,500) if angka % 17 == 0]\n",
        "print(list_angka)"
      ],
      "metadata": {
        "id": "P8BI5jq6665t"
      },
      "execution_count": null,
      "outputs": []
    },
    {
      "cell_type": "markdown",
      "source": [
        "# **FUNCTION I**"
      ],
      "metadata": {
        "id": "ksYRk78c7PEf"
      }
    },
    {
      "cell_type": "code",
      "source": [
        "#Example\n",
        "def perkalian(num_1,num_2):\n",
        "    print(f\"hasil perkalian {num_1} dan {num_2} = {num_1 * num_2} \")\n",
        "#Memanggil fungsi untuk dapat menampilkan hasil perkalian sesuai dengan keinginan user\n",
        "#Menampilkan hasil perkalian 2 dan 3\n",
        "#num_1 = 2, num_2 = 3\n",
        "perkalian(2,3)\n",
        "\n",
        "#Menampilkan hasil perkalian 2 dan 4\n",
        "#num_1 = 2, num_2 = 4\n",
        "perkalian(2,4)\n",
        "\n",
        "#Menampilkan hasil perkalian 2 dan 5\n",
        "#num_1 = 2, num_2 = 5\n",
        "perkalian(2,5)\n",
        "\n",
        "#Menampilkan hasil perkalian 2 dan 6\n",
        "#num_1 = 2, num_2 = 6\n",
        "perkalian(2,6)"
      ],
      "metadata": {
        "id": "YxydheTd7Rck"
      },
      "execution_count": null,
      "outputs": []
    },
    {
      "cell_type": "code",
      "source": [
        "# fungsi dengan parameter\n",
        "def identitas(nama) :\n",
        "    print(nama)\n",
        "\n",
        "# memanggil fungsi\n",
        "identitas('Rangga')"
      ],
      "metadata": {
        "id": "uy6A56PByEHO"
      },
      "execution_count": null,
      "outputs": []
    },
    {
      "cell_type": "code",
      "source": [
        "#fungsi dengan mengimplementasikan brancing dan looping\n",
        "# Jika produk merupakan produk promo, maka akan mendapat potongan harga 50%\n",
        "# Jika bukan merupakan produk promo, maka tetap membayar harga normal\n",
        "\n",
        "def diskon(promo, harga):\n",
        "    if promo == True:\n",
        "        potongan = 50/100\n",
        "        total_harga = int(harga * potongan)\n",
        "        print(total_harga)\n",
        "\n",
        "    else:\n",
        "        print(harga)\n",
        "\n",
        "diskon(True, 100000)\n",
        "diskon(False, 100000)"
      ],
      "metadata": {
        "id": "Gr0Zlg_-1Kde"
      },
      "execution_count": null,
      "outputs": []
    },
    {
      "cell_type": "code",
      "source": [
        "#fungsi menggunakan looping dan list\n",
        "def daftar_kriteria():\n",
        "    list_text = [\"Menguasai bahasa python\", \"Mampu menganalisa data\", \"Memiliki sertifikat pendukung\"]\n",
        "    for index in range(len(list_text)):\n",
        "        print(list_text[index])"
      ],
      "metadata": {
        "id": "EgifU5m34Ntn"
      },
      "execution_count": null,
      "outputs": []
    },
    {
      "cell_type": "code",
      "source": [
        "def jadwal_catering(hari):\n",
        "  if (hari == \"Senin\" or hari == \"senin\"):\n",
        "    print(\"Menu makan hari Senin adalah Nasi Kuning.\")\n",
        "\n",
        "  elif hari == \"Selasa\" or hari == \"selasa\" :\n",
        "    print(\"Menu makan hari Selasa adalah Salad Sayur.\")\n",
        "\n",
        "  elif hari == \"Rabu\" or hari == \"rabu\" :\n",
        "    print(\"Menu makan hari Rabu adalah Soto Ayam.\")\n",
        "\n",
        "  elif hari == \"Kamis\" or hari == \"kamis\" :\n",
        "    print(\"Menu makan hari Kamis adalah Nasi Goreng.\")\n",
        "\n",
        "  elif hari == \"Jumat\" or hari == \"jumat\" :\n",
        "    print(\"Menu makan hari Jumat adalah Rawon.\")\n",
        "\n",
        "  else :\n",
        "    print(\"Menu makan tidak tersedia.\")\n",
        "\n",
        "\n",
        "# memanggil fungsi\n",
        "jadwal_catering(\"Rabu\")\n",
        "jadwal_catering(\"Kamis\")\n",
        "jadwal_catering(\"Jumat\")\n",
        "jadwal_catering(\"Sabtu\")"
      ],
      "metadata": {
        "id": "nylAy6kY4-lG"
      },
      "execution_count": null,
      "outputs": []
    },
    {
      "cell_type": "code",
      "source": [
        "#Input tidak urut\n",
        "#fungsi dengan keyword arguments\n",
        "def identitas(nama, asal, umur):\n",
        "    print(f'{nama} berasal dari {asal} berumur {str(umur)} tahun')\n",
        "\n",
        "# memanggil fungsi\n",
        "identitas( umur='22', nama='Astri', asal ='Malang')\n",
        "#Example\n",
        "#membuat fungsi\n",
        "def pegawai( nama, departemen, tahun ):\n",
        "    print(f' {nama}, merupakan karyawan dari departemen {departemen} sejak tahun {tahun}.')\n",
        "\n",
        "# memanggil fungsi\n",
        "pegawai(nama =  'Chaidar Abdul' , departemen = 'public relation' , tahun = 2010 )\n",
        "pegawai(nama =  'Fajariyah Ainun' , departemen = 'marketing' , tahun = 2014 )"
      ],
      "metadata": {
        "id": "iIKqSk-75Ird"
      },
      "execution_count": null,
      "outputs": []
    },
    {
      "cell_type": "code",
      "source": [
        "#Default Value\n",
        "# fungsi dengan keyword arguments\n",
        "def luas_lingkaran(jari_jari, PI = 3.14): #default value = 3.14\n",
        "    print(f\"Luas lingkaran dari jari-jari {jari_jari} adalah {PI*jari_jari*jari_jari}\")\n",
        "\n",
        "# memanggil fungsi\n",
        "luas_lingkaran(4)\n",
        "luas_lingkaran(8)\n",
        "luas_lingkaran(12)"
      ],
      "metadata": {
        "id": "2iIyZsvW5Mvo"
      },
      "execution_count": null,
      "outputs": []
    },
    {
      "cell_type": "code",
      "source": [
        "#Return\n",
        "#luas_segitiga yang mengembalikan nilai.\n",
        "#dengan nilai alas = 13 dan tinggi = 17\n",
        "def luas_segitiga(alas, tinggi):\n",
        "    luas = (alas*tinggi)/2\n",
        "    return luas\n",
        "\n",
        "#memanggil fungsi\n",
        "luas_segitiga(13,17)"
      ],
      "metadata": {
        "id": "5h9BCYpq7Oir"
      },
      "execution_count": null,
      "outputs": []
    },
    {
      "cell_type": "markdown",
      "source": [
        "Sebuah pabrik karet memproduksi dan menjual karet keseluruh indonesia.\n",
        "Kamu diminta untuk membuat fungsi profit yang menghitung keuntungan penjualan karet.\n",
        "Rumus yang digunakan untuk membangun fungsi:\n",
        "hitung_profit = total_sales - total_cost\n",
        "total_sales = jumlah_produk * harga_jual\n",
        "total_cost = jumlah_produk * biaya_produksi"
      ],
      "metadata": {
        "id": "FBiTqxNi8kGu"
      }
    },
    {
      "cell_type": "code",
      "source": [
        "def profit (jumlah_produk, harga_jual, biaya_produksi):\n",
        "    total_sales = jumlah_produk*harga_jual\n",
        "    total_cost = jumlah_produk*biaya_produksi\n",
        "    profit = total_sales - total_cost\n",
        "    return profit\n",
        "# memanggil fungsi\n",
        "profit (10, 1000, 100)"
      ],
      "metadata": {
        "id": "BEKhFA598jsU"
      },
      "execution_count": null,
      "outputs": []
    },
    {
      "cell_type": "code",
      "source": [
        "#arbitrary arguments *args\n",
        "#jumlah parameter tidak jelas atau tidak pasti\n",
        "def pelanggan(*nama):\n",
        "    print(\"Pelanggan toko hari ini :\",nama)\n",
        "\n",
        "pelanggan('Farhan', 'Fitri', 'Calysta', 'Chaidar', 'Nur')\n",
        "#indexing\n",
        "def pelanggan(*nama):\n",
        "    print(\"Pelanggan toko hari ini :\",nama[0]) #mengambil index ke-0 saja\n",
        "\n",
        "pelanggan('Farhan', 'Fitri', 'Calysta', 'Chaidar', 'Nur')\n",
        "#loop\n",
        "# membuat fungsi cetak dengan argumen *args\n",
        "def pelanggan(*nama):\n",
        "    for daftar_pengunjung in nama:\n",
        "        print(\"Pelanggan toko hari ini :\", daftar_pengunjung)\n",
        "\n",
        "# memanggil fungsi\n",
        "pelanggan('Farhan', 'Fitri', 'Calysta', 'Chaidar', 'Nur')"
      ],
      "metadata": {
        "id": "j8M4lH4f8y6K"
      },
      "execution_count": null,
      "outputs": []
    },
    {
      "cell_type": "code",
      "source": [
        "#Arbitrary Keyword Arguments (**kwargs)\n",
        "#membuat fungsi dengan argumen **kwargs\n",
        "def pelanggan(**daftar_pengunjung):\n",
        "    print(daftar_pengunjung)\n",
        "\n",
        "#memanggil fungsi\n",
        "pelanggan(nama=\"Farhan\", pembelian = \"minyak goreng, beras\")\n",
        "pelanggan(nama=\"Fitri\", pembelian = \"beras\")\n",
        "pelanggan(nama=\"Budi\", pembelian = \"mi goreng\")"
      ],
      "metadata": {
        "id": "CDXs4P7h9607",
        "outputId": "1feffb5c-5938-431b-e457-27a7925b8f3a",
        "colab": {
          "base_uri": "https://localhost:8080/"
        }
      },
      "execution_count": 1,
      "outputs": [
        {
          "output_type": "stream",
          "name": "stdout",
          "text": [
            "{'nama': 'Farhan', 'pembelian': 'minyak goreng, beras'}\n",
            "{'nama': 'Fitri', 'pembelian': 'beras'}\n",
            "{'nama': 'Budi', 'pembelian': 'mi goreng'}\n"
          ]
        }
      ]
    },
    {
      "cell_type": "code",
      "source": [
        "#args\n",
        "#contoh menggunakan *args\n",
        "def daftar_kriteria(*daftar):\n",
        "    for value in range(len(daftar)):\n",
        "        print (daftar[value])\n",
        "\n",
        "daftar_kriteria(\"Menguasai bahasa python\", \"Mampu menganalisa data\", \"Memiliki sertifikat pendukung\", \"Menguasai SQL\")\n",
        "#kwargs\n",
        "#contoh menggunakan **kwargs\n",
        "def daftar_kriteria(**daftar):\n",
        "    for key, value in daftar.items():\n",
        "        print(f\"{key} : {value}\")\n",
        "\n",
        "daftar_kriteria(syarat_1 = \"Menguasai bahasa python\", syarat_2 = \"Mampu menganalisa data\", syarat_3 = \"Memiliki sertifikat pendukung\", syarat_4 = \"Menguasai SQL\")"
      ],
      "metadata": {
        "id": "2WULCc1bAoPn"
      },
      "execution_count": null,
      "outputs": []
    },
    {
      "cell_type": "markdown",
      "source": [
        " Fungsi bernama kalender yang hanya dapat menampilkan nilai Jumat"
      ],
      "metadata": {
        "id": "vZCWaQYYCH-g"
      }
    },
    {
      "cell_type": "code",
      "source": [
        "# membuat fungsi\n",
        "def kalender (*hari):\n",
        "        print (hari[4])\n",
        "# memanggil fungsi\n",
        "kalender('Senin', 'Selasa', 'Rabu', 'Kamis', 'Jumat', 'Sabtu', 'Minggu')"
      ],
      "metadata": {
        "id": "8fvz02woCJbd"
      },
      "execution_count": null,
      "outputs": []
    },
    {
      "cell_type": "markdown",
      "source": [
        "Docstring"
      ],
      "metadata": {
        "id": "BS3Kv7A8C_8u"
      }
    },
    {
      "cell_type": "code",
      "source": [
        "#dokumentasi atau keterangan singkat memahami fungsi\n",
        "def sebuah_fungsi():\n",
        "    \"\"\"Menampilkan \"Hello World!\" ketika dipanggil.\"\"\"\n",
        "    print(\"Hello World!\")"
      ],
      "metadata": {
        "id": "oWj4v1pPDBgD"
      },
      "execution_count": null,
      "outputs": []
    },
    {
      "cell_type": "code",
      "source": [
        "def daftar_kriteria():\n",
        "    \"Menampilkan list kriteria mendaftar sebagai data analyst.\"\n",
        "    list_text = [\"Menguasai bahasa python\", \"Mampu menganalisa data\", \"Memiliki sertifikat pendukung\"]\n",
        "    for index in range(len(list_text)):\n",
        "        print (list_text[index])"
      ],
      "metadata": {
        "id": "gbMpObNsDVpN"
      },
      "execution_count": null,
      "outputs": []
    },
    {
      "cell_type": "markdown",
      "source": [
        "Lambda"
      ],
      "metadata": {
        "id": "SY5gxGaADi2F"
      }
    },
    {
      "cell_type": "code",
      "source": [
        "#fungsi biasa\n",
        "def sentence(nama):\n",
        "    sapa = f\"Hello, {nama}\"\n",
        "    print(sapa)\n",
        "\n",
        "sentence(\"World!\")\n",
        "sentence(\"Friends!\")\n",
        "\n",
        "#fungsi lambda\n",
        "sapa = lambda nama: print(f\"Hello, {nama}\")\n",
        "\n",
        "sapa(\"World!\")\n",
        "sapa(\"Friends!\")"
      ],
      "metadata": {
        "id": "XHVMjWWdDjyH"
      },
      "execution_count": null,
      "outputs": []
    },
    {
      "cell_type": "code",
      "source": [
        "profit = lambda pendapatan, pengeluaran: pendapatan - pengeluaran\n",
        "\n",
        "profit(1200000, 935000)"
      ],
      "metadata": {
        "id": "c_Rqo1RaUyEc"
      },
      "execution_count": null,
      "outputs": []
    },
    {
      "cell_type": "code",
      "source": [
        "#Contoh lainnya\n",
        "#Fungsi biasa\n",
        "def perhitungan(num):\n",
        "    if num < 10:\n",
        "        return num+1\n",
        "    else:\n",
        "        return 2*num\n",
        "perhitungan(10)\n",
        "#diubah menjadi lambda\n",
        "hitung = lambda num: num+1 if num < 10 else 2*num\n",
        "#menjalankan fungsi lambda yang sudah dibuat\n",
        "hitung(5)"
      ],
      "metadata": {
        "id": "7UwVCZKFVU3_"
      },
      "execution_count": null,
      "outputs": []
    },
    {
      "cell_type": "code",
      "source": [
        "cuti = lambda lembur,bolos: print('Karyawan diperbolehkan cuti') if lembur >= 8 and bolos < 4 else  print('Karyawan tidak diperbolehkan cuti')\n",
        "#memanggil fungsi lambda\n",
        "cuti(10,3)\n",
        "cuti(10,5)"
      ],
      "metadata": {
        "id": "95z2JeayYVHG"
      },
      "execution_count": null,
      "outputs": []
    },
    {
      "cell_type": "markdown",
      "source": [
        "Terdapat fungsi sederhana perhitungan margin laba kotor untuk kepenting evaluasi penjualan suatu produk.\n",
        "Agar program terlihat lebih sederhana, user ingin mengubah fungsi biasa kedalam bentuk lambda. Ubah margin_kotor kedalam fungsi lambda"
      ],
      "metadata": {
        "id": "9YeVlPYxYzF8"
      }
    },
    {
      "cell_type": "code",
      "source": [
        "#fungsi biasa\n",
        "def margin_kotor(laba_kotor, pendapatan):\n",
        "    hitung = (laba_kotor / pendapatan) * 100\n",
        "    print(f\"Margin laba kotor sebesar {int(hitung)}%\")\n",
        "\n",
        "#fungsi lambda\n",
        "margin_kotor = lambda laba_kotor, pendapatan : print(f\"Margin laba kotor sebesar {int((laba_kotor / pendapatan) * 100)}%\")\n",
        "\n",
        "#memanggil fungsi\n",
        "margin_kotor(150000, 250000)\n"
      ],
      "metadata": {
        "id": "ckV6e-LwYxBg"
      },
      "execution_count": null,
      "outputs": []
    }
  ]
}