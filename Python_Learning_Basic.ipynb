{
  "nbformat": 4,
  "nbformat_minor": 0,
  "metadata": {
    "colab": {
      "provenance": [],
      "authorship_tag": "ABX9TyPRS3URVLI0gjCxlRlxXia5",
      "include_colab_link": true
    },
    "kernelspec": {
      "name": "python3",
      "display_name": "Python 3"
    },
    "language_info": {
      "name": "python"
    }
  },
  "cells": [
    {
      "cell_type": "markdown",
      "metadata": {
        "id": "view-in-github",
        "colab_type": "text"
      },
      "source": [
        "<a href=\"https://colab.research.google.com/github/ChairunnisaAnggunSetiono/Python-Learning-Basic/blob/main/Python_Learning_Basic.ipynb\" target=\"_parent\"><img src=\"https://colab.research.google.com/assets/colab-badge.svg\" alt=\"Open In Colab\"/></a>"
      ]
    },
    {
      "cell_type": "code",
      "execution_count": null,
      "metadata": {
        "colab": {
          "base_uri": "https://localhost:8080/"
        },
        "id": "AxmHaARgpuMa",
        "outputId": "4a2ebce2-faa1-4370-f855-a353bb8f9046"
      },
      "outputs": [
        {
          "output_type": "stream",
          "name": "stdout",
          "text": [
            "Halo Dunia\n",
            "20\n",
            "20000\n"
          ]
        }
      ],
      "source": [
        "#Print Words\n",
        "print(\"Halo Dunia\")\n",
        "#Print Angka\n",
        "print(20)\n",
        "print(20000)"
      ]
    },
    {
      "cell_type": "code",
      "source": [],
      "metadata": {
        "id": "zyLkwfJAsEC0"
      },
      "execution_count": null,
      "outputs": []
    }
  ]
}