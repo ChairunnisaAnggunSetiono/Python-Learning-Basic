{
  "nbformat": 4,
  "nbformat_minor": 0,
  "metadata": {
    "colab": {
      "provenance": [],
      "authorship_tag": "ABX9TyPQfvdpbGOthsKbwtvsPVKn",
      "include_colab_link": true
    },
    "kernelspec": {
      "name": "python3",
      "display_name": "Python 3"
    },
    "language_info": {
      "name": "python"
    }
  },
  "cells": [
    {
      "cell_type": "markdown",
      "metadata": {
        "id": "view-in-github",
        "colab_type": "text"
      },
      "source": [
        "<a href=\"https://colab.research.google.com/github/ChairunnisaAnggunSetiono/Python-Learning-Basic/blob/main/Python_Learning_Basic.ipynb\" target=\"_parent\"><img src=\"https://colab.research.google.com/assets/colab-badge.svg\" alt=\"Open In Colab\"/></a>"
      ]
    },
    {
      "cell_type": "markdown",
      "source": [
        "Printing"
      ],
      "metadata": {
        "id": "s1FhAOoAy7rn"
      }
    },
    {
      "cell_type": "code",
      "execution_count": null,
      "metadata": {
        "colab": {
          "base_uri": "https://localhost:8080/"
        },
        "id": "AxmHaARgpuMa",
        "outputId": "4a2ebce2-faa1-4370-f855-a353bb8f9046"
      },
      "outputs": [
        {
          "output_type": "stream",
          "name": "stdout",
          "text": [
            "Halo Dunia\n",
            "20\n",
            "20000\n"
          ]
        }
      ],
      "source": [
        "#Print Words\n",
        "print(\"Halo Dunia\")\n",
        "#Print Angka\n",
        "print(20)\n",
        "print(20000)"
      ]
    },
    {
      "cell_type": "markdown",
      "source": [
        "Variables"
      ],
      "metadata": {
        "id": "jf3562CnznIJ"
      }
    },
    {
      "cell_type": "code",
      "source": [
        "#Variables\n",
        "angka_1 = 121839128931289381293812938129381293812938912389128391289381238129312\n",
        "angka_2 = 1213812309123890128391238128390128390812908908\n",
        "\n",
        "jumlah = angka_1 + angka_2\n",
        "jumlah\n",
        "#Text\n",
        "text = \"Saya sedang belajar membuat variabel\"\n",
        "#Text Berisi\n",
        "sisi_persegi = 6"
      ],
      "metadata": {
        "id": "zyLkwfJAsEC0"
      },
      "execution_count": 5,
      "outputs": []
    },
    {
      "cell_type": "markdown",
      "source": [
        "More Printing"
      ],
      "metadata": {
        "id": "Bfx_w32007Wt"
      }
    },
    {
      "cell_type": "code",
      "source": [
        "#Printing Isi Variabel\n",
        "nama_lengkap = \"Raditya Dika\"\n",
        "print(nama_lengkap)\n",
        "#Printing menggunakan %-formatting\n",
        "#Text\n",
        "nama1 = \"Rima\"\n",
        "nama2 = \"Budi\"\n",
        "print(\"Hello, %s\" % nama1)\n",
        "print(\"Hello, %s\" % nama2)\n",
        "#Angka\n",
        "angka1 = 21\n",
        "angka2 = 20\n",
        "print(\"Inilah adalah angka %d\" % angka1)\n",
        "print(\"Inilah adalah angka %d\" % angka2)\n",
        "#Gabungan\n",
        "# Coba code di sini\n",
        "nama = \"Budi\"\n",
        "umur = 22\n",
        "print(\"Halo saya %s. Saya berumur %d tahun.\" %(nama,umur))\n",
        "#Printing menggunakan f-string\n",
        "ayam = 15000\n",
        "bumbu = 10000\n",
        "beras = 50000\n",
        "total_belanja = 16000\n",
        "print(f\"Harga ayam adalah {ayam} rupiah, harga bumbu adalah {bumbu} rupiah, harga beras adalah {beras} rupiah. Maka total belanja adalah {total_belanja} rupiah\")"
      ],
      "metadata": {
        "colab": {
          "base_uri": "https://localhost:8080/"
        },
        "id": "jB4-JD0t09Gf",
        "outputId": "f4e3488d-05ae-42f0-eb52-23b15f7573bc"
      },
      "execution_count": 6,
      "outputs": [
        {
          "output_type": "stream",
          "name": "stdout",
          "text": [
            "Raditya Dika\n",
            "Hello, Rima\n",
            "Hello, Budi\n",
            "Inilah adalah angka 21\n",
            "Inilah adalah angka 20\n",
            "Halo saya Budi. Saya berumur 22 tahun.\n",
            "Harga ayam adalah 15000 rupiah, harga bumbu adalah 10000 rupiah, harga beras adalah 50000 rupiah. Maka total belanja adalah 16000 rupiah\n"
          ]
        }
      ]
    },
    {
      "cell_type": "markdown",
      "source": [
        "# **Primitive Data Structure**"
      ],
      "metadata": {
        "id": "_ujQwgpj-QJ8"
      }
    },
    {
      "cell_type": "code",
      "source": [
        "#Integer:bilangan bulat (negatif dan positif)\n",
        "print(1)\n",
        "#Tipe data sebuah karakter\n",
        "print(type(6))\n",
        "#tipe data dari sebuah variabel\n",
        "int_2 = 23\n",
        "print(type(int_2))"
      ],
      "metadata": {
        "colab": {
          "base_uri": "https://localhost:8080/"
        },
        "id": "khBvLL7a3lnj",
        "outputId": "b6310b90-64fc-4278-aa7a-62275c1f0567"
      },
      "execution_count": 8,
      "outputs": [
        {
          "output_type": "stream",
          "name": "stdout",
          "text": [
            "1\n",
            "<class 'int'>\n",
            "<class 'int'>\n"
          ]
        }
      ]
    },
    {
      "cell_type": "code",
      "source": [
        "#Float:angka desimal\n",
        "print(3.14)\n",
        "pi = 3.14\n",
        "print(type(pi))"
      ],
      "metadata": {
        "id": "tu7oofua3ImM"
      },
      "execution_count": null,
      "outputs": []
    },
    {
      "cell_type": "code",
      "source": [
        "#Operasi Matematika\n",
        "Pembagian = 6/3\n",
        "Floor_Devision = 3 // 21 #pembulatan desimal\n",
        "Modulo = 7%2 #sisa hasil bagi\n",
        "Pangkat = 2**2"
      ],
      "metadata": {
        "id": "w5tgZze__iaN"
      },
      "execution_count": 11,
      "outputs": []
    },
    {
      "cell_type": "markdown",
      "source": [
        "Order of Operations (PEMDAS)"
      ],
      "metadata": {
        "id": "9qropHM_-Vfq"
      }
    },
    {
      "cell_type": "markdown",
      "source": [
        "Ibu Mega sedang berbelanja ke toko buah untuk acara arisan. Beliau membeli buah Jeruk sebanyak 1 kg, buah Rambutan 2 kg, Semangka 2 buah yang beratnya masing-masing 4.2 kg dan 4.5 kg. Jika harga Jeruk Rp 22000 per kg, Rambutan Rp 20000 per kg, Semangka Rp 4000 per kg. Ternyata toko memberikan diskon sebesar 20% dari harga total pembelian. Berapakah total harga belanjaan Ibu Mega?"
      ],
      "metadata": {
        "id": "O4yseWjgCGcf"
      }
    },
    {
      "cell_type": "code",
      "source": [
        "jeruk = 1 * 22000\n",
        "rambutan = 2 * 20000\n",
        "semangka = (4.2 + 4.5) * 4000\n",
        "\n",
        "# kemudian tambahkan semua total harga buahnya\n",
        "total = jeruk + rambutan + semangka\n",
        "print(total)\n",
        "\n",
        "# hitung diskon\n",
        "h_diskon = total * (20/100)\n",
        "print(h_diskon)\n",
        "\n",
        "# harga akhir\n",
        "h_total = total - h_diskon\n",
        "print(h_total)\n"
      ],
      "metadata": {
        "id": "zs9Jv2T7AYy1"
      },
      "execution_count": null,
      "outputs": []
    },
    {
      "cell_type": "code",
      "source": [
        "#String tanda kutip tunggal dan ganda dalam satu kalimat\n",
        "print('''He said, \"What's there?\"''')\n",
        "#String dalam variabel\n",
        "string_2 = 'kuda itu aku beri nama jambul'\n",
        "print(string_2)\n",
        "#Tipe string\n",
        "mobil = 'porsche'\n",
        "print(type(mobil))"
      ],
      "metadata": {
        "colab": {
          "base_uri": "https://localhost:8080/"
        },
        "id": "AVjQXz7CDclX",
        "outputId": "f7ad5a1f-99dd-47ba-b249-7064c216fbb2"
      },
      "execution_count": 15,
      "outputs": [
        {
          "output_type": "stream",
          "name": "stdout",
          "text": [
            "He said, \"What's there?\"\n",
            "kuda itu aku beri nama jambul\n",
            "<class 'str'>\n"
          ]
        }
      ]
    },
    {
      "cell_type": "code",
      "source": [
        "STR_1 = 'data'\n",
        "STR_2 = 'science'\n",
        "Concatenation = print(STR_1+STR_2)\n",
        "Repetition = print(STR_1*2)\n",
        "Slicing = print(STR_2[1:4]) #NAMA_VAR[start:stop-1]\n",
        "#Mengambil indeks ke-n sampai akhir string\n",
        "jam = 'jam tangan'\n",
        "print(jam[2:])\n",
        "#Mengambil karakter dari awal string sampai indeks ke-m\n",
        "jam = 'jam tangan'\n",
        "print(jam[:...])"
      ],
      "metadata": {
        "colab": {
          "base_uri": "https://localhost:8080/"
        },
        "id": "HfyiaTRmEHe4",
        "outputId": "5ba4c909-7ce1-4d9c-c477-72f9fdfdef05"
      },
      "execution_count": 21,
      "outputs": [
        {
          "output_type": "stream",
          "name": "stdout",
          "text": [
            "datascience\n",
            "datadata\n",
            "cie\n"
          ]
        }
      ]
    },
    {
      "cell_type": "markdown",
      "source": [
        "Kasus String"
      ],
      "metadata": {
        "id": "_tuYLgTLHsUm"
      }
    },
    {
      "cell_type": "markdown",
      "source": [
        "Boss anda menyuruh untuk mengambil data penjualan di bulan tertentu. Bagaimana cara anda untuk mendapatkan hanya bulannya saja di tanggal transaksi tersebut?\n",
        "\n",
        "tgl_transaksi_1 = \"02-01-2022\"\n",
        "tgl_transaksi_2 = \"26-05-2022\""
      ],
      "metadata": {
        "id": "qKUFMJ0LHpnK"
      }
    },
    {
      "cell_type": "code",
      "source": [
        "tgl_transaksi_1 = '02-01-2022'\n",
        "bulan_1 = tgl_transaksi_1[3:5]\n",
        "print(bulan_1)\n",
        "\n",
        "tgl_transaksi_2 = '26-05-2022'\n",
        "bulan_2 = tgl_transaksi_2[3:5]\n",
        "print(bulan_2)"
      ],
      "metadata": {
        "id": "_o_IfgH9HpAK"
      },
      "execution_count": null,
      "outputs": []
    },
    {
      "cell_type": "markdown",
      "source": [
        "String Method"
      ],
      "metadata": {
        "id": "EnwpJKfNJZT_"
      }
    },
    {
      "cell_type": "code",
      "source": [
        "#Len (panjang string)\n",
        "string_1 = 'python programming'\n",
        "print(len(string_1))\n",
        "#Upper (kapital)\n",
        "pulau = 'Maluku'\n",
        "print(pulau.upper())\n",
        "#Lower (huruf kecil)\n",
        "alatMusik = 'GITAR'\n",
        "print(alatMusik.lower())\n",
        "#Count (hitung karakter)\n",
        "#coba hitung huruf 'o' pada sring_2 menggunakan count()\n",
        "string_2 = 'jupyter notebook'\n",
        "print(string_2.count('o'))\n",
        "#Find (menemukan karakter)\n",
        "# carilah karakter 'l' ada di indeks ke berapa dengan method find()\n",
        "buah = 'kelapa'\n",
        "print(buah.find('l'))\n",
        "#Replace (mengganti karakter)\n",
        "unggas = 'burung bangau'\n",
        "print(unggas.replace('bangau','elang'))\n",
        "#capitalize (ubah karakter pertama menjadi kapital)\n",
        "pohon = 'cemara'\n",
        "print(pohon.capitalize())"
      ],
      "metadata": {
        "id": "zkLvIV2wJdPs"
      },
      "execution_count": null,
      "outputs": []
    },
    {
      "cell_type": "markdown",
      "source": [
        "# **BOOLEAN**"
      ],
      "metadata": {
        "id": "wBIYB_da3aB4"
      }
    },
    {
      "cell_type": "code",
      "source": [
        "#Nilai logika true or false\n",
        "#Operator Equality\n",
        "#True\n",
        "nama_tercantum = \"Johan\"\n",
        "nama_penerima = \"Johan\"\n",
        "# Kita bisa mengeluarkan output dengan dua cara (di Jupyter Notebook)\n",
        "# Cara 1\n",
        "print(nama_tercantum == nama_penerima)\n",
        "# Cara 2\n",
        "nama_tercantum == nama_penerima\n",
        "\n",
        "#False\n",
        "angka_1 = 0.232\n",
        "angka_2 = 2.32\n",
        "angka_1 != angka_2\n",
        "\n",
        "#Operator Comparison\n",
        "judul_film_pertama = 'Bersama Awan'\n",
        "judul_film_kedua = 'Bersama Angin'\n",
        "judul_film_pertama > judul_film_kedua\n"
      ],
      "metadata": {
        "colab": {
          "base_uri": "https://localhost:8080/"
        },
        "id": "WAmokNR53eCs",
        "outputId": "7d6d4745-818d-4391-b890-cf90cecbef57"
      },
      "execution_count": 1,
      "outputs": [
        {
          "output_type": "stream",
          "name": "stdout",
          "text": [
            "True\n"
          ]
        },
        {
          "output_type": "execute_result",
          "data": {
            "text/plain": [
              "True"
            ]
          },
          "metadata": {},
          "execution_count": 1
        }
      ]
    },
    {
      "cell_type": "markdown",
      "source": [
        "Boolean Logic I (AND, OR, NOT)"
      ],
      "metadata": {
        "id": "WeCxmBTd5Awk"
      }
    },
    {
      "cell_type": "code",
      "source": [
        "#And (dua kondisi yang true)\n",
        "3 < 4 and 3 < 2"
      ],
      "metadata": {
        "colab": {
          "base_uri": "https://localhost:8080/"
        },
        "id": "TRwR8_0v5DC2",
        "outputId": "077de8ee-ae22-434c-fe16-7a6e696ce3e6"
      },
      "execution_count": 3,
      "outputs": [
        {
          "output_type": "execute_result",
          "data": {
            "text/plain": [
              "False"
            ]
          },
          "metadata": {},
          "execution_count": 3
        }
      ]
    },
    {
      "cell_type": "code",
      "source": [
        "#Contoh\n",
        "#Pengguna menggunakan promo pertama dan promo kedua\n",
        "is_get_promo_pertama = True\n",
        "is_get_promo_kedua = True\n",
        "is_get_promo_pertama and is_get_promo_kedua"
      ],
      "metadata": {
        "colab": {
          "base_uri": "https://localhost:8080/"
        },
        "id": "MF3F2Pm65tcf",
        "outputId": "d66a1b8e-9232-4729-f76b-53c78ec66b0d"
      },
      "execution_count": 5,
      "outputs": [
        {
          "output_type": "execute_result",
          "data": {
            "text/plain": [
              "True"
            ]
          },
          "metadata": {},
          "execution_count": 5
        }
      ]
    },
    {
      "cell_type": "code",
      "source": [
        "#Pengguna menggunakan promo pertama saja\n",
        "is_get_promo_pertama = True\n",
        "is_get_promo_kedua = False\n",
        "is_get_promo_pertama and is_get_promo_kedua"
      ],
      "metadata": {
        "colab": {
          "base_uri": "https://localhost:8080/"
        },
        "id": "VfOkIkzA56au",
        "outputId": "8e422178-99df-4da2-fccb-f8d15008b32e"
      },
      "execution_count": 6,
      "outputs": [
        {
          "output_type": "execute_result",
          "data": {
            "text/plain": [
              "False"
            ]
          },
          "metadata": {},
          "execution_count": 6
        }
      ]
    },
    {
      "cell_type": "code",
      "source": [
        "#Pengguna menggunakan promo kedua saja\n",
        "is_get_promo_pertama = False\n",
        "is_get_promo_kedua = True\n",
        "is_get_promo_pertama and is_get_promo_kedua"
      ],
      "metadata": {
        "colab": {
          "base_uri": "https://localhost:8080/"
        },
        "id": "oUUKJVrZ57-3",
        "outputId": "f094bd3c-ed83-457a-c461-ee7e0c0e26b7"
      },
      "execution_count": 7,
      "outputs": [
        {
          "output_type": "execute_result",
          "data": {
            "text/plain": [
              "False"
            ]
          },
          "metadata": {},
          "execution_count": 7
        }
      ]
    },
    {
      "cell_type": "code",
      "source": [
        "#Pengguna yang tidak menggunakan promo\n",
        "is_get_promo_pertama = False\n",
        "is_get_promo_kedua = False\n",
        "is_get_promo_pertama and is_get_promo_kedua"
      ],
      "metadata": {
        "colab": {
          "base_uri": "https://localhost:8080/"
        },
        "id": "J2pFiKxo59sd",
        "outputId": "6a8e4b98-e5d4-4957-8f1b-03a931f12b71"
      },
      "execution_count": 8,
      "outputs": [
        {
          "output_type": "execute_result",
          "data": {
            "text/plain": [
              "False"
            ]
          },
          "metadata": {},
          "execution_count": 8
        }
      ]
    },
    {
      "cell_type": "markdown",
      "source": [
        "Perusahaan memberikan bonus insentif lebih untuk karyawan yang masuk tepat waktu dan juga setidaknya 1 kali lembur dalam sebulan. Pak Wira pernah melakukan lembur namun ia pernah terlambat maka, Buatlah boolean logic sesuai dengan kondisi Pak Wira."
      ],
      "metadata": {
        "id": "xq9FH2LR7Lkd"
      }
    },
    {
      "cell_type": "code",
      "source": [
        "is_intime = False\n",
        "is_overtime = True\n",
        "\n",
        "is_intime and is_overtime"
      ],
      "metadata": {
        "id": "dUCBQ0hD7NRJ"
      },
      "execution_count": null,
      "outputs": []
    },
    {
      "cell_type": "code",
      "source": [
        "#Or (false cuma ketika false & false)"
      ],
      "metadata": {
        "id": "OgDNmCHO7yNT"
      },
      "execution_count": null,
      "outputs": []
    },
    {
      "cell_type": "markdown",
      "source": [
        "NOT"
      ],
      "metadata": {
        "id": "GHt4t1JS8x6i"
      }
    },
    {
      "cell_type": "code",
      "source": [
        "#Negasi dari nilai sebelumnya, True => False, False => True\n",
        "kondisi_ibu_tidak_membeli_lemon = True\n",
        "not kondisi_ibu_tidak_membeli_lemon\n",
        "#operasi boolean untuk kondisi berikut: angka_3 kurang dari 15 dan angka_3 lebih dari 5 atau angka_3 bukan lebih dari 7\n",
        "angka_3 <15 and angka_3 > 5 or not angka_3 >7\n"
      ],
      "metadata": {
        "id": "Chu130T181Sr"
      },
      "execution_count": null,
      "outputs": []
    },
    {
      "cell_type": "markdown",
      "source": [
        "# **BRANCHING (IF, ELIF, ELSE)**"
      ],
      "metadata": {
        "id": "9quN9mTSBZdj"
      }
    },
    {
      "cell_type": "code",
      "source": [
        "#If\n",
        "#if kondisi jika cuaca cerah\n",
        "if cuaca_hari_ini ==  \"cerah\":\n",
        "  #statement jika memenuhi if kondisi jika cuaca cerah\n",
        "  print(\"aku pergi kepantai\")"
      ],
      "metadata": {
        "id": "Y1vcZ1SlBcwI"
      },
      "execution_count": null,
      "outputs": []
    },
    {
      "cell_type": "markdown",
      "source": [
        "Supermarket A memberikan harga diskon 15% kepada pelanggan yang bertransaksi belanja lebih dari Rp100.000. Wawan tertarik dengan promosi tersebut maka Wawan membeli kebutuhan Wawan dan ternyata didapatkan hasil:"
      ],
      "metadata": {
        "id": "1d7TSDGzCILm"
      }
    },
    {
      "cell_type": "code",
      "source": [
        "#Tipe data integer\n",
        "diskon = 0.15\n",
        "total_belanja_wawan = 110_000\n",
        "min_belanja = 100_000\n",
        "\n",
        "if total_belanja_wawan >= min_belanja:\n",
        "  print(\"mendapatkan diskon 15%\")\n",
        "\n",
        "  total_akhir = total_belanja_wawan - (total_belanja_wawan*diskon)\n",
        "  print(f\"total_belanja_wawan setelah diskon sebesar {total_akhir} rupiah\")\n",
        "\n",
        "#Tipe data boolean\n",
        "is_promo = True\n",
        "if is_promo == True:\n",
        "  print(\"Selamat anda mendapatkan diskon\")"
      ],
      "metadata": {
        "colab": {
          "base_uri": "https://localhost:8080/"
        },
        "id": "hqKHn5TQCKgn",
        "outputId": "8f42ed2b-c39e-429f-ac78-0c73d917dc23"
      },
      "execution_count": 12,
      "outputs": [
        {
          "output_type": "stream",
          "name": "stdout",
          "text": [
            "mendapatkan diskon 15%\n",
            "total_belanja_wawan setelah diskon sebesar 93500.0 rupiah\n",
            "Selamat anda mendapatkan diskon\n"
          ]
        }
      ]
    },
    {
      "cell_type": "code",
      "source": [
        "#If/else\n",
        "harga_laptop = 20_000_000\n",
        "uang_wawan = 15_000_000\n",
        "if uang_wawan >= harga_laptop:\n",
        "    print(\"dapat membeli laptop\")\n",
        "else:\n",
        "    print(\"tidak dapat membeli laptop\")"
      ],
      "metadata": {
        "id": "-2hE51HKDtyE"
      },
      "execution_count": null,
      "outputs": []
    },
    {
      "cell_type": "code",
      "source": [
        "#Else if/ Elif\n",
        "cuaca_hari_ini = \"topan\"\n",
        "#if kondisi jika cuaca cerah\n",
        "if cuaca_hari_ini == \"cerah\":\n",
        "\n",
        "    #statement pertama\n",
        "    print(\"Aku pergi ke Pantai\")\n",
        "\n",
        "#if kondisi kedua jika cuaca hujan\n",
        "elif cuaca_hari_ini == \"hujan\":\n",
        "\n",
        "    #statement kedua\n",
        "    print(\"Aku pergi ke Bioskop\")\n",
        "\n",
        "#else jika tidak memenuhi kedua kondisi sebelumnya\n",
        "else:\n",
        "\n",
        "    #statement ketiga\n",
        "    print(\"Aku istirahat di Rumah\")"
      ],
      "metadata": {
        "id": "SNhJ6TYGESFw"
      },
      "execution_count": null,
      "outputs": []
    },
    {
      "cell_type": "markdown",
      "source": [
        "Branching + Boolean Logic"
      ],
      "metadata": {
        "id": "qWXohfQ3FkdG"
      }
    },
    {
      "cell_type": "code",
      "source": [
        "username = \"RayhanNaufal\"\n",
        "\n",
        "if username == \"RayhanNaufal\" or username == \"AriefRahman\":\n",
        "    print(f\"Selamat datang Administrator {username}\")\n",
        "else:\n",
        "    print(f\"Selamat datang User {username}\")"
      ],
      "metadata": {
        "colab": {
          "base_uri": "https://localhost:8080/"
        },
        "id": "sWi1WLYBFnqa",
        "outputId": "d53df38c-9ec6-4cda-9b81-2603e50684f8"
      },
      "execution_count": 13,
      "outputs": [
        {
          "output_type": "stream",
          "name": "stdout",
          "text": [
            "Selamat datang User Sandi\n"
          ]
        }
      ]
    },
    {
      "cell_type": "markdown",
      "source": [
        "Sebuah Toko Florist memberikan diskon 20% kepada pelanggan yang telah melakukan 3 transaksi sebelumnya\n",
        "Akan memberi diskon 30% untuk pelanggan yang telah melakukan 7 kali transaksi sebelumnya\n",
        "Gamal ingin membeli bouquet bunga dan sekarang merupakan transaksi yang ke 7 di Toko Florist tersebut\n",
        "Buat program Branching di bawah ini berdasarkan case diatas!"
      ],
      "metadata": {
        "id": "k4U4LP8uLipT"
      }
    },
    {
      "cell_type": "code",
      "source": [
        "transaksi_ke = 7\n",
        "harga_bouquet = 150000\n",
        "diskon_20_persen = harga_bouquet - harga_bouquet * 0.2\n",
        "diskon_30_persen= harga_bouquet - harga_bouquet * 0.3\n",
        "\n",
        "\n",
        "if transaksi_ke == 3:\n",
        "  print(f\"Harga Bouquet Diskon 20% sebesar {diskon_30_persen}\")\n",
        "elif transaksi_ke == 7:\n",
        "  print(f\"Harga Bouquet Diskon 30% sebesar {diskon_30_persen}\")\n",
        "else:\n",
        "  print(f\"Harga Bouquet {harga_bouquet}\")"
      ],
      "metadata": {
        "id": "4cZWWDNiLfzO"
      },
      "execution_count": null,
      "outputs": []
    },
    {
      "cell_type": "markdown",
      "source": [
        "Nested Branching"
      ],
      "metadata": {
        "id": "VMid2rqlL55K"
      }
    },
    {
      "cell_type": "markdown",
      "source": [
        "Yana saat ini bekerja sebagai sales sebuah brand sepeda motor. Tiap bulan, Yana perlu untuk menjual 10 sepeda motor. Namun, dari kantor dia bisa mendapatkan insentif jika mampu menjual 20 sepeda motor.\n",
        "\n",
        "Bulan ini, Yana mampu menjual 30 sepeda motor:\n",
        "\n",
        "Cek status sales Yana apakah sudah memenuhi target atau belum. Dan jika iya, apakah Yana bisa mendapatkan insentif bulan ini."
      ],
      "metadata": {
        "id": "7PDXR8K3Myf9"
      }
    },
    {
      "cell_type": "code",
      "source": [
        "sales_yana = 30\n",
        "target_penjualan = 10\n",
        "target_insentif = 20\n",
        "\n",
        "# merupakan if <condition> membuat kondisi apakah\n",
        "# penjualan wana lebih besar sama dengan target penjualan\n",
        "if sales_yana >= target_penjualan:\n",
        "\n",
        "    # merupakan nested branching if membuat kondisi apakah penjualan\n",
        "    # yana selain mendapatkan target apakah yana mendapatkan insentif\n",
        "    if sales_yana >= target_insentif:\n",
        "\n",
        "        # statement jika bernilai true\n",
        "        print('Yana memenuhi target dan mendapatkan insentif')\n",
        "\n",
        "    else:\n",
        "        # statement jika bernilai False atau tidak\n",
        "        # memenuhi pada kondisi sales_yana >= target_insentif\n",
        "        print('Yana memenuhi target')\n",
        "\n",
        "else:\n",
        "    # statement jika bernilai False atau tidak\n",
        "    # memenuhi pada kondisi sales_yana >= target_penjualan\n",
        "    print('Yana belum memenuhi target')"
      ],
      "metadata": {
        "colab": {
          "base_uri": "https://localhost:8080/"
        },
        "id": "O1Mcam9SMG49",
        "outputId": "cd4a1811-8ae0-4f87-9d5b-5a32c076aae5"
      },
      "execution_count": 15,
      "outputs": [
        {
          "output_type": "stream",
          "name": "stdout",
          "text": [
            "Yana memenuhi target dan mendapatkan insentif\n"
          ]
        }
      ]
    },
    {
      "cell_type": "markdown",
      "source": [
        "Statement Pass"
      ],
      "metadata": {
        "id": "xR0X_CghPNkO"
      }
    },
    {
      "cell_type": "markdown",
      "source": [
        "Mungkin sampai saat ini timbul pertanyaan. \"Bagaimana kalau suatu kondisi terpenuhi, saya tidak ingin melakukan apa-apa?\"\n",
        "Jika bertemu dengan kasus seperti ini, maka yang bisa dilakukan adalah dengan menggunakan statement pass.\n",
        "Jika Python bertemu statement pass, maka Python tidak akan melakukan apapun dan akan lanjut ke line berikutnya.\n",
        "Bono ingin membuat alarm sederhana jika genangan air di sekitar lingkungan rumahnya di atas 5 cm. Dia hanya ingin alarm berbunyi jika kondisi tersebut terjadi.\n",
        "\n",
        "Hari ini, walau situasi mulai menuju ke musim hujan genangan air di sekitar rumah Bono sebesar:"
      ],
      "metadata": {
        "id": "sXD800H-PU-b"
      }
    },
    {
      "cell_type": "code",
      "source": [
        "tinggi_genangan_centimeter = 4"
      ],
      "metadata": {
        "id": "mMJn2ICdPQVg"
      },
      "execution_count": null,
      "outputs": []
    },
    {
      "cell_type": "code",
      "source": [
        "# if jika tinggi genangan kurang dari atau sama dengan 5 cm\n",
        "if tinggi_genangan_centimeter <= 5:\n",
        "\n",
        "    #pass statement bahwa jika if kondisi memenuhi maka tidak melakukan apapun\n",
        "    pass\n",
        "\n",
        "else:\n",
        "\n",
        "    #statement jika kondisi melebihi nilai ambang maka alarm berbunyi\n",
        "    print(\"Alarm Berbunyi!\")"
      ],
      "metadata": {
        "id": "HFf3EB0oPajG"
      },
      "execution_count": null,
      "outputs": []
    }
  ]
}