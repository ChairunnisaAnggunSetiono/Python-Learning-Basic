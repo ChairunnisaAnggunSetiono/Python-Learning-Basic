{
  "nbformat": 4,
  "nbformat_minor": 0,
  "metadata": {
    "colab": {
      "provenance": [],
      "authorship_tag": "ABX9TyMHqrLir+0bWTRdMQGgFFvw",
      "include_colab_link": true
    },
    "kernelspec": {
      "name": "python3",
      "display_name": "Python 3"
    },
    "language_info": {
      "name": "python"
    }
  },
  "cells": [
    {
      "cell_type": "markdown",
      "metadata": {
        "id": "view-in-github",
        "colab_type": "text"
      },
      "source": [
        "<a href=\"https://colab.research.google.com/github/ChairunnisaAnggunSetiono/Python-Learning-Basic/blob/main/Python_Learning_Basic.ipynb\" target=\"_parent\"><img src=\"https://colab.research.google.com/assets/colab-badge.svg\" alt=\"Open In Colab\"/></a>"
      ]
    },
    {
      "cell_type": "markdown",
      "source": [
        "Printing"
      ],
      "metadata": {
        "id": "s1FhAOoAy7rn"
      }
    },
    {
      "cell_type": "code",
      "execution_count": null,
      "metadata": {
        "colab": {
          "base_uri": "https://localhost:8080/"
        },
        "id": "AxmHaARgpuMa",
        "outputId": "4a2ebce2-faa1-4370-f855-a353bb8f9046"
      },
      "outputs": [
        {
          "output_type": "stream",
          "name": "stdout",
          "text": [
            "Halo Dunia\n",
            "20\n",
            "20000\n"
          ]
        }
      ],
      "source": [
        "#Print Words\n",
        "print(\"Halo Dunia\")\n",
        "#Print Angka\n",
        "print(20)\n",
        "print(20000)"
      ]
    },
    {
      "cell_type": "code",
      "source": [
        "#Variables\n",
        "angka_1 = 121839128931289381293812938129381293812938912389128391289381238129312\n",
        "angka_2 = 1213812309123890128391238128390128390812908908\n",
        "\n",
        "jumlah = angka_1 + angka_2"
      ],
      "metadata": {
        "id": "zyLkwfJAsEC0"
      },
      "execution_count": 2,
      "outputs": []
    }
  ]
}